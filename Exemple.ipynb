{
 "cells": [
  {
   "cell_type": "markdown",
   "metadata": {},
   "source": [
    "# Exemple d'utilisation du package"
   ]
  },
  {
   "cell_type": "markdown",
   "metadata": {},
   "source": [
    "## Importation du package et Lecture du fichier de données"
   ]
  },
  {
   "cell_type": "code",
   "execution_count": 12,
   "metadata": {},
   "outputs": [],
   "source": [
    "# import nécessaire au fonctionnement du package\n",
    "from mypackage import Strategy_Manager, Strategy, strategy, DataFileReader\n",
    "\n",
    "# import supplémentaire pour les stratégies utilisées comme exemple\n",
    "import pandas as pd"
   ]
  },
  {
   "cell_type": "code",
   "execution_count": 13,
   "metadata": {},
   "outputs": [
    {
     "data": {
      "text/html": [
       "<div>\n",
       "<style scoped>\n",
       "    .dataframe tbody tr th:only-of-type {\n",
       "        vertical-align: middle;\n",
       "    }\n",
       "\n",
       "    .dataframe tbody tr th {\n",
       "        vertical-align: top;\n",
       "    }\n",
       "\n",
       "    .dataframe thead th {\n",
       "        text-align: right;\n",
       "    }\n",
       "</style>\n",
       "<table border=\"1\" class=\"dataframe\">\n",
       "  <thead>\n",
       "    <tr style=\"text-align: right;\">\n",
       "      <th></th>\n",
       "      <th>AAVEUSDT</th>\n",
       "      <th>ACMUSDT</th>\n",
       "      <th>ADAUSDT</th>\n",
       "      <th>ADXUSDT</th>\n",
       "      <th>AGLDUSDT</th>\n",
       "      <th>ALGOUSDT</th>\n",
       "      <th>ALICEUSDT</th>\n",
       "      <th>ALPACAUSDT</th>\n",
       "      <th>ALPHAUSDT</th>\n",
       "      <th>AMPUSDT</th>\n",
       "      <th>...</th>\n",
       "      <th>BATUSDT</th>\n",
       "      <th>BCHUSDT</th>\n",
       "      <th>BEAMUSDT</th>\n",
       "      <th>BELUSDT</th>\n",
       "      <th>BETAUSDT</th>\n",
       "      <th>BICOUSDT</th>\n",
       "      <th>BLZUSDT</th>\n",
       "      <th>BNBUPUSDT</th>\n",
       "      <th>BNBUSDT</th>\n",
       "      <th>BNTUSDT</th>\n",
       "    </tr>\n",
       "    <tr>\n",
       "      <th>Date_Price</th>\n",
       "      <th></th>\n",
       "      <th></th>\n",
       "      <th></th>\n",
       "      <th></th>\n",
       "      <th></th>\n",
       "      <th></th>\n",
       "      <th></th>\n",
       "      <th></th>\n",
       "      <th></th>\n",
       "      <th></th>\n",
       "      <th></th>\n",
       "      <th></th>\n",
       "      <th></th>\n",
       "      <th></th>\n",
       "      <th></th>\n",
       "      <th></th>\n",
       "      <th></th>\n",
       "      <th></th>\n",
       "      <th></th>\n",
       "      <th></th>\n",
       "      <th></th>\n",
       "    </tr>\n",
       "  </thead>\n",
       "  <tbody>\n",
       "    <tr>\n",
       "      <th>2022-01-01</th>\n",
       "      <td>266.4</td>\n",
       "      <td>5.211</td>\n",
       "      <td>1.3800</td>\n",
       "      <td>0.5729</td>\n",
       "      <td>1.705</td>\n",
       "      <td>1.7414</td>\n",
       "      <td>13.380</td>\n",
       "      <td>0.6264</td>\n",
       "      <td>0.6995</td>\n",
       "      <td>0.04964</td>\n",
       "      <td>...</td>\n",
       "      <td>1.2560</td>\n",
       "      <td>444.8</td>\n",
       "      <td>0.5862</td>\n",
       "      <td>1.651</td>\n",
       "      <td>0.64700</td>\n",
       "      <td>4.480</td>\n",
       "      <td>0.2208</td>\n",
       "      <td>543.00</td>\n",
       "      <td>527.3</td>\n",
       "      <td>3.345</td>\n",
       "    </tr>\n",
       "    <tr>\n",
       "      <th>2022-01-02</th>\n",
       "      <td>265.3</td>\n",
       "      <td>5.195</td>\n",
       "      <td>1.3770</td>\n",
       "      <td>0.5799</td>\n",
       "      <td>1.828</td>\n",
       "      <td>1.6734</td>\n",
       "      <td>13.060</td>\n",
       "      <td>0.6085</td>\n",
       "      <td>0.6978</td>\n",
       "      <td>0.04897</td>\n",
       "      <td>...</td>\n",
       "      <td>1.2999</td>\n",
       "      <td>447.7</td>\n",
       "      <td>0.6011</td>\n",
       "      <td>1.667</td>\n",
       "      <td>0.68177</td>\n",
       "      <td>4.223</td>\n",
       "      <td>0.2258</td>\n",
       "      <td>552.62</td>\n",
       "      <td>531.0</td>\n",
       "      <td>3.396</td>\n",
       "    </tr>\n",
       "    <tr>\n",
       "      <th>2022-01-03</th>\n",
       "      <td>267.2</td>\n",
       "      <td>5.152</td>\n",
       "      <td>1.3190</td>\n",
       "      <td>0.5798</td>\n",
       "      <td>1.718</td>\n",
       "      <td>1.7949</td>\n",
       "      <td>12.640</td>\n",
       "      <td>0.6186</td>\n",
       "      <td>0.7019</td>\n",
       "      <td>0.05239</td>\n",
       "      <td>...</td>\n",
       "      <td>1.3017</td>\n",
       "      <td>434.7</td>\n",
       "      <td>0.5934</td>\n",
       "      <td>1.616</td>\n",
       "      <td>0.63450</td>\n",
       "      <td>3.892</td>\n",
       "      <td>0.2273</td>\n",
       "      <td>506.38</td>\n",
       "      <td>511.9</td>\n",
       "      <td>3.428</td>\n",
       "    </tr>\n",
       "    <tr>\n",
       "      <th>2022-01-04</th>\n",
       "      <td>252.1</td>\n",
       "      <td>5.107</td>\n",
       "      <td>1.3090</td>\n",
       "      <td>0.5613</td>\n",
       "      <td>1.637</td>\n",
       "      <td>1.6725</td>\n",
       "      <td>13.650</td>\n",
       "      <td>0.6163</td>\n",
       "      <td>0.6981</td>\n",
       "      <td>0.04929</td>\n",
       "      <td>...</td>\n",
       "      <td>1.2825</td>\n",
       "      <td>427.1</td>\n",
       "      <td>0.5864</td>\n",
       "      <td>1.646</td>\n",
       "      <td>0.63164</td>\n",
       "      <td>3.920</td>\n",
       "      <td>0.2219</td>\n",
       "      <td>494.10</td>\n",
       "      <td>506.9</td>\n",
       "      <td>3.401</td>\n",
       "    </tr>\n",
       "    <tr>\n",
       "      <th>2022-01-05</th>\n",
       "      <td>230.3</td>\n",
       "      <td>4.727</td>\n",
       "      <td>1.2300</td>\n",
       "      <td>0.5276</td>\n",
       "      <td>1.570</td>\n",
       "      <td>1.5554</td>\n",
       "      <td>12.230</td>\n",
       "      <td>0.5660</td>\n",
       "      <td>0.6276</td>\n",
       "      <td>0.04682</td>\n",
       "      <td>...</td>\n",
       "      <td>1.1764</td>\n",
       "      <td>399.4</td>\n",
       "      <td>0.5339</td>\n",
       "      <td>1.465</td>\n",
       "      <td>0.57229</td>\n",
       "      <td>3.553</td>\n",
       "      <td>0.2064</td>\n",
       "      <td>411.33</td>\n",
       "      <td>474.1</td>\n",
       "      <td>3.297</td>\n",
       "    </tr>\n",
       "    <tr>\n",
       "      <th>...</th>\n",
       "      <td>...</td>\n",
       "      <td>...</td>\n",
       "      <td>...</td>\n",
       "      <td>...</td>\n",
       "      <td>...</td>\n",
       "      <td>...</td>\n",
       "      <td>...</td>\n",
       "      <td>...</td>\n",
       "      <td>...</td>\n",
       "      <td>...</td>\n",
       "      <td>...</td>\n",
       "      <td>...</td>\n",
       "      <td>...</td>\n",
       "      <td>...</td>\n",
       "      <td>...</td>\n",
       "      <td>...</td>\n",
       "      <td>...</td>\n",
       "      <td>...</td>\n",
       "      <td>...</td>\n",
       "      <td>...</td>\n",
       "      <td>...</td>\n",
       "    </tr>\n",
       "    <tr>\n",
       "      <th>2022-12-26</th>\n",
       "      <td>56.0</td>\n",
       "      <td>2.346</td>\n",
       "      <td>0.2652</td>\n",
       "      <td>0.1212</td>\n",
       "      <td>0.270</td>\n",
       "      <td>0.1715</td>\n",
       "      <td>1.091</td>\n",
       "      <td>0.2529</td>\n",
       "      <td>0.0801</td>\n",
       "      <td>0.00318</td>\n",
       "      <td>...</td>\n",
       "      <td>0.1869</td>\n",
       "      <td>103.4</td>\n",
       "      <td>0.1167</td>\n",
       "      <td>0.405</td>\n",
       "      <td>0.07050</td>\n",
       "      <td>0.284</td>\n",
       "      <td>0.0534</td>\n",
       "      <td>28.24</td>\n",
       "      <td>244.3</td>\n",
       "      <td>0.343</td>\n",
       "    </tr>\n",
       "    <tr>\n",
       "      <th>2022-12-27</th>\n",
       "      <td>57.5</td>\n",
       "      <td>2.345</td>\n",
       "      <td>0.2603</td>\n",
       "      <td>0.1182</td>\n",
       "      <td>0.264</td>\n",
       "      <td>0.1701</td>\n",
       "      <td>1.093</td>\n",
       "      <td>0.2504</td>\n",
       "      <td>0.0786</td>\n",
       "      <td>0.00312</td>\n",
       "      <td>...</td>\n",
       "      <td>0.1788</td>\n",
       "      <td>101.7</td>\n",
       "      <td>0.1164</td>\n",
       "      <td>0.401</td>\n",
       "      <td>0.06771</td>\n",
       "      <td>0.274</td>\n",
       "      <td>0.0531</td>\n",
       "      <td>28.76</td>\n",
       "      <td>246.7</td>\n",
       "      <td>0.339</td>\n",
       "    </tr>\n",
       "    <tr>\n",
       "      <th>2022-12-28</th>\n",
       "      <td>53.8</td>\n",
       "      <td>2.288</td>\n",
       "      <td>0.2482</td>\n",
       "      <td>0.1143</td>\n",
       "      <td>0.259</td>\n",
       "      <td>0.1670</td>\n",
       "      <td>1.058</td>\n",
       "      <td>0.2477</td>\n",
       "      <td>0.0762</td>\n",
       "      <td>0.00309</td>\n",
       "      <td>...</td>\n",
       "      <td>0.1680</td>\n",
       "      <td>99.2</td>\n",
       "      <td>0.1107</td>\n",
       "      <td>0.386</td>\n",
       "      <td>0.06701</td>\n",
       "      <td>0.264</td>\n",
       "      <td>0.0523</td>\n",
       "      <td>28.27</td>\n",
       "      <td>244.5</td>\n",
       "      <td>0.329</td>\n",
       "    </tr>\n",
       "    <tr>\n",
       "      <th>2022-12-29</th>\n",
       "      <td>54.5</td>\n",
       "      <td>2.308</td>\n",
       "      <td>0.2440</td>\n",
       "      <td>0.1150</td>\n",
       "      <td>0.265</td>\n",
       "      <td>0.1648</td>\n",
       "      <td>1.049</td>\n",
       "      <td>0.2454</td>\n",
       "      <td>0.0749</td>\n",
       "      <td>0.00306</td>\n",
       "      <td>...</td>\n",
       "      <td>0.1657</td>\n",
       "      <td>98.4</td>\n",
       "      <td>0.1114</td>\n",
       "      <td>0.386</td>\n",
       "      <td>0.06616</td>\n",
       "      <td>0.266</td>\n",
       "      <td>0.0515</td>\n",
       "      <td>28.74</td>\n",
       "      <td>246.3</td>\n",
       "      <td>0.330</td>\n",
       "    </tr>\n",
       "    <tr>\n",
       "      <th>2022-12-30</th>\n",
       "      <td>52.4</td>\n",
       "      <td>2.291</td>\n",
       "      <td>0.2458</td>\n",
       "      <td>0.1109</td>\n",
       "      <td>0.263</td>\n",
       "      <td>0.1691</td>\n",
       "      <td>1.050</td>\n",
       "      <td>0.2426</td>\n",
       "      <td>0.0705</td>\n",
       "      <td>0.00305</td>\n",
       "      <td>...</td>\n",
       "      <td>0.1654</td>\n",
       "      <td>96.8</td>\n",
       "      <td>0.1103</td>\n",
       "      <td>0.387</td>\n",
       "      <td>0.06665</td>\n",
       "      <td>0.275</td>\n",
       "      <td>0.0496</td>\n",
       "      <td>28.55</td>\n",
       "      <td>245.8</td>\n",
       "      <td>0.325</td>\n",
       "    </tr>\n",
       "  </tbody>\n",
       "</table>\n",
       "<p>364 rows × 36 columns</p>\n",
       "</div>"
      ],
      "text/plain": [
       "            AAVEUSDT  ACMUSDT  ADAUSDT  ADXUSDT  AGLDUSDT  ALGOUSDT  \\\n",
       "Date_Price                                                            \n",
       "2022-01-01     266.4    5.211   1.3800   0.5729     1.705    1.7414   \n",
       "2022-01-02     265.3    5.195   1.3770   0.5799     1.828    1.6734   \n",
       "2022-01-03     267.2    5.152   1.3190   0.5798     1.718    1.7949   \n",
       "2022-01-04     252.1    5.107   1.3090   0.5613     1.637    1.6725   \n",
       "2022-01-05     230.3    4.727   1.2300   0.5276     1.570    1.5554   \n",
       "...              ...      ...      ...      ...       ...       ...   \n",
       "2022-12-26      56.0    2.346   0.2652   0.1212     0.270    0.1715   \n",
       "2022-12-27      57.5    2.345   0.2603   0.1182     0.264    0.1701   \n",
       "2022-12-28      53.8    2.288   0.2482   0.1143     0.259    0.1670   \n",
       "2022-12-29      54.5    2.308   0.2440   0.1150     0.265    0.1648   \n",
       "2022-12-30      52.4    2.291   0.2458   0.1109     0.263    0.1691   \n",
       "\n",
       "            ALICEUSDT  ALPACAUSDT  ALPHAUSDT  AMPUSDT  ...  BATUSDT  BCHUSDT  \\\n",
       "Date_Price                                             ...                     \n",
       "2022-01-01     13.380      0.6264     0.6995  0.04964  ...   1.2560    444.8   \n",
       "2022-01-02     13.060      0.6085     0.6978  0.04897  ...   1.2999    447.7   \n",
       "2022-01-03     12.640      0.6186     0.7019  0.05239  ...   1.3017    434.7   \n",
       "2022-01-04     13.650      0.6163     0.6981  0.04929  ...   1.2825    427.1   \n",
       "2022-01-05     12.230      0.5660     0.6276  0.04682  ...   1.1764    399.4   \n",
       "...               ...         ...        ...      ...  ...      ...      ...   \n",
       "2022-12-26      1.091      0.2529     0.0801  0.00318  ...   0.1869    103.4   \n",
       "2022-12-27      1.093      0.2504     0.0786  0.00312  ...   0.1788    101.7   \n",
       "2022-12-28      1.058      0.2477     0.0762  0.00309  ...   0.1680     99.2   \n",
       "2022-12-29      1.049      0.2454     0.0749  0.00306  ...   0.1657     98.4   \n",
       "2022-12-30      1.050      0.2426     0.0705  0.00305  ...   0.1654     96.8   \n",
       "\n",
       "            BEAMUSDT  BELUSDT  BETAUSDT  BICOUSDT  BLZUSDT  BNBUPUSDT  \\\n",
       "Date_Price                                                              \n",
       "2022-01-01    0.5862    1.651   0.64700     4.480   0.2208     543.00   \n",
       "2022-01-02    0.6011    1.667   0.68177     4.223   0.2258     552.62   \n",
       "2022-01-03    0.5934    1.616   0.63450     3.892   0.2273     506.38   \n",
       "2022-01-04    0.5864    1.646   0.63164     3.920   0.2219     494.10   \n",
       "2022-01-05    0.5339    1.465   0.57229     3.553   0.2064     411.33   \n",
       "...              ...      ...       ...       ...      ...        ...   \n",
       "2022-12-26    0.1167    0.405   0.07050     0.284   0.0534      28.24   \n",
       "2022-12-27    0.1164    0.401   0.06771     0.274   0.0531      28.76   \n",
       "2022-12-28    0.1107    0.386   0.06701     0.264   0.0523      28.27   \n",
       "2022-12-29    0.1114    0.386   0.06616     0.266   0.0515      28.74   \n",
       "2022-12-30    0.1103    0.387   0.06665     0.275   0.0496      28.55   \n",
       "\n",
       "            BNBUSDT  BNTUSDT  \n",
       "Date_Price                    \n",
       "2022-01-01    527.3    3.345  \n",
       "2022-01-02    531.0    3.396  \n",
       "2022-01-03    511.9    3.428  \n",
       "2022-01-04    506.9    3.401  \n",
       "2022-01-05    474.1    3.297  \n",
       "...             ...      ...  \n",
       "2022-12-26    244.3    0.343  \n",
       "2022-12-27    246.7    0.339  \n",
       "2022-12-28    244.5    0.329  \n",
       "2022-12-29    246.3    0.330  \n",
       "2022-12-30    245.8    0.325  \n",
       "\n",
       "[364 rows x 36 columns]"
      ]
     },
     "execution_count": 13,
     "metadata": {},
     "output_type": "execute_result"
    }
   ],
   "source": [
    "# Chemin vers le fichier de données sous format .csv ou .parquet\n",
    "filepath = 'fichier_donnée.csv' \n",
    "# filepath = 'fichier_donnée.parquet'\n",
    "\n",
    "# Initialiser le lecteur de fichiers en indiquant le format des dates\n",
    "reader = DataFileReader(date_format='%d/%m/%Y') \n",
    "\n",
    "# Lecture du fichier\n",
    "data = reader.read_file(filepath, date_column='Date_Price')\n",
    "data"
   ]
  },
  {
   "cell_type": "markdown",
   "metadata": {},
   "source": [
    "## Création d'une stratégie basée sur la volatilité"
   ]
  },
  {
   "cell_type": "code",
   "execution_count": 14,
   "metadata": {},
   "outputs": [],
   "source": [
    "class VolatilityBasedStrategy(Strategy):\n",
    "    \"\"\"\n",
    "    Stratégie basée sur la volatilité des actifs.\n",
    "    \n",
    "    Si la volatilité d'un actif dépasse un seuil donné, une position short est prise.\n",
    "    Si la volatilité est inférieure au seuil, une position long est prise.\n",
    "    \"\"\"\n",
    "\n",
    "    def __init__(self, assets, volatility_threshold=0.02, window_size=10, rebalancing_frequency='D', allocation_method='equal'):\n",
    "        \"\"\"\n",
    "        Initialise la stratégie avec les paramètres donnés.\n",
    "\n",
    "        :param assets: Liste des actifs à trader.\n",
    "        :param volatility_threshold: Seuil pour décider entre position long/short.\n",
    "        :param window_size: Fenêtre pour le calcul de la volatilité.\n",
    "        :param rebalancing_frequency: Fréquence de rééquilibrage ('D', 'W', etc.).\n",
    "        :param allocation_method: Méthode d'allocation ('equal' ou 'volatility_weighted').\n",
    "        \"\"\"\n",
    "        super().__init__(rebalancing_frequency=rebalancing_frequency, assets=assets)\n",
    "        self.volatility_threshold = volatility_threshold\n",
    "        self.window_size = window_size\n",
    "        self.volatility = None\n",
    "        self.allocation_method = allocation_method\n",
    "\n",
    "    def fit(self, data: pd.DataFrame) -> None:\n",
    "        \"\"\"\n",
    "        Calcule la volatilité historique pour chaque actif sur une fenêtre donnée.\n",
    "\n",
    "        :param data: Données historiques (prix des actifs).\n",
    "        \"\"\"\n",
    "        self.volatility = {}\n",
    "        for asset in self.assets:\n",
    "            daily_returns = data[asset].pct_change()\n",
    "            self.volatility[asset] = daily_returns.rolling(window=self.window_size).std()\n",
    "\n",
    "    def get_position(self, historical_data: pd.DataFrame, current_position: dict) -> dict:\n",
    "        \"\"\"\n",
    "        Détermine les positions basées sur la volatilité de chaque actif.\n",
    "\n",
    "        :param historical_data: Données historiques des actifs.\n",
    "        :param current_position: Positions actuelles.\n",
    "        :return: Dictionnaire des positions pour chaque actif.\n",
    "        \"\"\"\n",
    "        if self.volatility is None:\n",
    "            raise ValueError(\"La méthode fit() doit être appelée avant get_position().\")\n",
    "        \n",
    "        positions = {}\n",
    "        active_assets = []\n",
    "        \n",
    "        # Déterminer les signaux pour chaque actif\n",
    "        for asset in self.assets:\n",
    "            current_vol = self.volatility[asset].iloc[-1] if asset in self.volatility else None\n",
    "            \n",
    "            if current_vol is None or pd.isna(current_vol):\n",
    "                # Actif sans données valides\n",
    "                positions[asset] = 0\n",
    "            else:\n",
    "                # Décider entre position short ou long\n",
    "                if current_vol > self.volatility_threshold:\n",
    "                    positions[asset] = -1  # Position short\n",
    "                else:\n",
    "                    positions[asset] = 1  # Position long\n",
    "                active_assets.append(asset)\n",
    "        \n",
    "        # Ajuster les allocations selon la méthode choisie\n",
    "        if active_assets:\n",
    "            if self.allocation_method == 'equal':\n",
    "                position_size = 1.0 / len(active_assets)\n",
    "                for asset in active_assets:\n",
    "                    positions[asset] *= position_size\n",
    "            elif self.allocation_method == 'volatility_weighted':\n",
    "                total_vol = sum(self.volatility[asset].iloc[-1] for asset in active_assets)\n",
    "                total_vol = total_vol or 1  # Évite division par zéro\n",
    "                for asset in active_assets:\n",
    "                    weight = self.volatility[asset].iloc[-1] / total_vol\n",
    "                    positions[asset] *= weight\n",
    "                    \n",
    "        return positions\n"
   ]
  },
  {
   "cell_type": "markdown",
   "metadata": {},
   "source": [
    "## Mise en place des variables nécessaire aux backtests"
   ]
  },
  {
   "cell_type": "code",
   "execution_count": 15,
   "metadata": {},
   "outputs": [],
   "source": [
    "# Création de la liste des actifs utilisé\n",
    "all_asset = data.columns.to_list()\n",
    "\n",
    "# Création des instances et exécution des backtests\n",
    "vol_strat_monthly = VolatilityBasedStrategy(\n",
    "    assets=all_asset,\n",
    "    volatility_threshold=0.02,\n",
    "    window_size=10,\n",
    "    rebalancing_frequency='ME',\n",
    "    allocation_method='equal'\n",
    ")\n",
    "\n",
    "# Création d'un dictionnaire des différentes stratégies à comparer avec \n",
    "#   en clé, le nom choisi de la stratégie\n",
    "#   en valeur, un tuple contenant la stratégie, les coûts de transactions, les coûts de slippage\n",
    "dico_strat = {\n",
    "    'vol_strat_monthly': (vol_strat_monthly, 0.002, 0.0005)\n",
    "}\n",
    "\n",
    "# Création de l'instance utile à la comparaison\n",
    "manager = Strategy_Manager(data, dico_strat)\n",
    "\n",
    "# Exécution des backtests\n",
    "manager.run_backtests()"
   ]
  },
  {
   "cell_type": "markdown",
   "metadata": {},
   "source": [
    "## Résultat du Backtest"
   ]
  },
  {
   "cell_type": "code",
   "execution_count": 16,
   "metadata": {},
   "outputs": [
    {
     "name": "stdout",
     "output_type": "stream",
     "text": [
      "\n",
      "Statistiques : \n",
      "                   total_return  annual_return  profit_factor  volatility  \\\n",
      "vol_strat_monthly          -0.0        -0.0003         0.9839      0.0035   \n",
      "\n",
      "                   sharpe_ratio  max_drawdown  sortino_ratio  VaR_95%  \\\n",
      "vol_strat_monthly       -0.0967       -0.0009        -0.0759  -0.0003   \n",
      "\n",
      "                   CVaR_95%  Profit/Loss_Ratio  num_trades  win_rate  \n",
      "vol_strat_monthly   -0.0005             0.6559          36       0.6  \n"
     ]
    }
   ],
   "source": [
    "# Affichage des statistiques pour chaque stratégie\n",
    "manager.print_statistics()"
   ]
  },
  {
   "cell_type": "code",
   "execution_count": 17,
   "metadata": {},
   "outputs": [
    {
     "name": "stdout",
     "output_type": "stream",
     "text": [
      "\n",
      "Statistiques de la strategie 'vol_strat_monthly':\n",
      "                   total_return  annual_return  profit_factor  volatility  \\\n",
      "vol_strat_monthly          -0.0        -0.0003         0.9839      0.0035   \n",
      "\n",
      "                   sharpe_ratio  max_drawdown  sortino_ratio  VaR_95%  \\\n",
      "vol_strat_monthly       -0.0967       -0.0009        -0.0759  -0.0003   \n",
      "\n",
      "                   CVaR_95%  Profit/Loss_Ratio  num_trades  win_rate  \n",
      "vol_strat_monthly   -0.0005             0.6559          36       0.6  \n"
     ]
    }
   ],
   "source": [
    "# Affichage des statistiques pour une stratégie précise\n",
    "manager.print_statistics(strategy_name=\"vol_strat_monthly\")"
   ]
  },
  {
   "cell_type": "code",
   "execution_count": 18,
   "metadata": {},
   "outputs": [
    {
     "name": "stdout",
     "output_type": "stream",
     "text": [
      "\n",
      "Statistiques : vol_strat_monthly\n",
      "             total_return  annual_return  profit_factor  volatility  \\\n",
      "AAVEUSDT           0.0024         0.0520         1.4444      0.0246   \n",
      "ACMUSDT            0.0070         0.1588         3.6659      0.0270   \n",
      "ADAUSDT           -0.0027        -0.0552         0.6192      0.0237   \n",
      "ADXUSDT            0.0030         0.0651         1.7773      0.0208   \n",
      "AGLDUSDT          -0.0021        -0.0441         0.6801      0.0218   \n",
      "ALGOUSDT          -0.0003        -0.0059         0.9392      0.0203   \n",
      "ALICEUSDT         -0.0037        -0.0757         0.6094      0.0317   \n",
      "ALPACAUSDT        -0.0018        -0.0373         0.7073      0.0253   \n",
      "ALPHAUSDT          0.0003         0.0066         1.0655      0.0237   \n",
      "AMPUSDT           -0.0066        -0.1302         0.3040      0.0288   \n",
      "ANKRUSDT          -0.0029        -0.0584         0.5526      0.0231   \n",
      "ANTUSDT            0.0005         0.0103         1.0776      0.0258   \n",
      "ARDRUSDT          -0.0007        -0.0137         0.8743      0.0208   \n",
      "ARPAUSDT          -0.0026        -0.0541         0.6368      0.0254   \n",
      "ARUSDT            -0.0048        -0.0956         0.4789      0.0245   \n",
      "ASRUSDT            0.0033         0.0717         1.6913      0.0286   \n",
      "ATAUSDT           -0.0030        -0.0616         0.6786      0.0318   \n",
      "ATOMUSDT           0.0026         0.0561         1.5248      0.0269   \n",
      "AUCTIONUSDT        0.0020         0.0429         1.3345      0.0305   \n",
      "AUDIOUSDT         -0.0004        -0.0080         0.9513      0.0287   \n",
      "AVAXUSDT           0.0005         0.0116         1.0863      0.0257   \n",
      "AXSUSDT            0.0011         0.0233         1.1973      0.0288   \n",
      "BADGERUSDT        -0.0018        -0.0373         0.7179      0.0196   \n",
      "BALUSDT            0.0004         0.0082         1.0562      0.0278   \n",
      "BANDUSDT          -0.0014        -0.0293         0.7946      0.0264   \n",
      "BARUSDT            0.0040         0.0877         1.8656      0.0302   \n",
      "BATUSDT           -0.0005        -0.0104         0.9051      0.0216   \n",
      "BCHUSDT            0.0027         0.0584         1.7944      0.0192   \n",
      "BEAMUSDT          -0.0003        -0.0060         0.9466      0.0199   \n",
      "BELUSDT           -0.0016        -0.0334         0.8336      0.0319   \n",
      "BETAUSDT           0.0096         0.2211         2.8353      0.0376   \n",
      "BICOUSDT          -0.0064        -0.1256         0.5317      0.0414   \n",
      "BLZUSDT           -0.0023        -0.0474         0.7235      0.0249   \n",
      "BNBUPUSDT          0.0027         0.0584         1.3554      0.0413   \n",
      "BNBUSDT            0.0017         0.0356         1.6181      0.0158   \n",
      "BNTUSDT            0.0011         0.0239         1.2879      0.0186   \n",
      "\n",
      "             sharpe_ratio  max_drawdown  sortino_ratio  VaR_95%  CVaR_95%  \\\n",
      "AAVEUSDT           2.1136       -0.0030         1.8711  -0.0023   -0.0030   \n",
      "ACMUSDT            5.8901       -0.0023        15.4820  -0.0009   -0.0011   \n",
      "ADAUSDT           -2.3328       -0.0034        -1.3383  -0.0031   -0.0034   \n",
      "ADXUSDT            3.1227       -0.0033         2.9006  -0.0016   -0.0019   \n",
      "AGLDUSDT          -2.0253       -0.0038        -1.8117  -0.0019   -0.0026   \n",
      "ALGOUSDT          -0.2924       -0.0025        -0.2635  -0.0018   -0.0024   \n",
      "ALICEUSDT         -2.3882       -0.0091        -2.1512  -0.0036   -0.0045   \n",
      "ALPACAUSDT        -1.4746       -0.0056        -0.8343  -0.0026   -0.0048   \n",
      "ALPHAUSDT          0.2759       -0.0035         0.2901  -0.0020   -0.0033   \n",
      "AMPUSDT           -4.5131       -0.0066        -3.3261  -0.0038   -0.0054   \n",
      "ANKRUSDT          -2.5263       -0.0046        -2.3491  -0.0024   -0.0039   \n",
      "ANTUSDT            0.4009       -0.0033         0.3940  -0.0021   -0.0032   \n",
      "ARDRUSDT          -0.6610       -0.0025        -0.6745  -0.0018   -0.0023   \n",
      "ARPAUSDT          -2.1312       -0.0072        -1.8420  -0.0028   -0.0030   \n",
      "ARUSDT            -3.8989       -0.0058        -3.6588  -0.0025   -0.0030   \n",
      "ASRUSDT            2.5056       -0.0040         3.8466  -0.0017   -0.0021   \n",
      "ATAUSDT           -1.9413       -0.0046        -1.6503  -0.0035   -0.0041   \n",
      "ATOMUSDT           2.0832       -0.0043         2.8884  -0.0016   -0.0023   \n",
      "AUCTIONUSDT        1.4072       -0.0051         0.9022  -0.0028   -0.0051   \n",
      "AUDIOUSDT         -0.2793       -0.0058        -0.2618  -0.0026   -0.0036   \n",
      "AVAXUSDT           0.4513       -0.0065         0.5245  -0.0020   -0.0028   \n",
      "AXSUSDT            0.8099       -0.0037         0.7532  -0.0022   -0.0037   \n",
      "BADGERUSDT        -1.9036       -0.0055        -1.9862  -0.0016   -0.0017   \n",
      "BALUSDT            0.2930       -0.0036         0.2706  -0.0026   -0.0036   \n",
      "BANDUSDT          -1.1097       -0.0039        -0.9175  -0.0029   -0.0039   \n",
      "BARUSDT            2.9063       -0.0044         3.8427  -0.0018   -0.0025   \n",
      "BATUSDT           -0.4809       -0.0031        -0.3276  -0.0022   -0.0031   \n",
      "BCHUSDT            3.0471       -0.0021         3.6121  -0.0014   -0.0016   \n",
      "BEAMUSDT          -0.3032       -0.0025        -0.1955  -0.0023   -0.0025   \n",
      "BELUSDT           -1.0467       -0.0096        -0.7623  -0.0037   -0.0041   \n",
      "BETAUSDT           5.8810       -0.0030        10.0855  -0.0018   -0.0027   \n",
      "BICOUSDT          -3.0350       -0.0076        -2.2147  -0.0050   -0.0068   \n",
      "BLZUSDT           -1.9051       -0.0080        -2.2133  -0.0019   -0.0021   \n",
      "BNBUPUSDT          1.4135       -0.0077         2.2219  -0.0024   -0.0033   \n",
      "BNBUSDT            2.2566       -0.0027         3.7103  -0.0010   -0.0011   \n",
      "BNTUSDT            1.2885       -0.0032         2.4218  -0.0009   -0.0011   \n",
      "\n",
      "             Profit/Loss_Ratio  num_trades  win_rate  \n",
      "AAVEUSDT                1.1555         1.0    0.5556  \n",
      "ACMUSDT                 3.6659         1.0    0.5000  \n",
      "ADAUSDT                 0.2654         1.0    0.7000  \n",
      "ADXUSDT                 0.7617         1.0    0.7000  \n",
      "AGLDUSDT                0.8502         1.0    0.4444  \n",
      "ALGOUSDT                0.6262         1.0    0.6000  \n",
      "ALICEUSDT               0.9140         1.0    0.4000  \n",
      "ALPACAUSDT              0.3031         1.0    0.7000  \n",
      "ALPHAUSDT               1.5983         1.0    0.4000  \n",
      "AMPUSDT                 0.4560         1.0    0.4000  \n",
      "ANKRUSDT                1.2893         1.0    0.3000  \n",
      "ANTUSDT                 1.0776         1.0    0.5000  \n",
      "ARDRUSDT                1.0929         1.0    0.4444  \n",
      "ARPAUSDT                0.6368         1.0    0.5000  \n",
      "ARUSDT                  1.1175         1.0    0.3000  \n",
      "ASRUSDT                 1.6913         1.0    0.5000  \n",
      "ATAUSDT                 0.6786         1.0    0.5000  \n",
      "ATOMUSDT                1.5248         1.0    0.5000  \n",
      "AUCTIONUSDT             0.6673         1.0    0.6667  \n",
      "AUDIOUSDT               1.1891         1.0    0.4444  \n",
      "AVAXUSDT                1.6295         1.0    0.4000  \n",
      "AXSUSDT                 0.7982         1.0    0.6000  \n",
      "BADGERUSDT              1.0769         1.0    0.4000  \n",
      "BALUSDT                 1.0562         1.0    0.5000  \n",
      "BANDUSDT                0.7946         1.0    0.5000  \n",
      "BARUSDT                 1.2437         1.0    0.6000  \n",
      "BATUSDT                 0.3879         1.0    0.7000  \n",
      "BCHUSDT                 1.1963         1.0    0.6000  \n",
      "BEAMUSDT                0.4057         1.0    0.7000  \n",
      "BELUSDT                 0.5558         1.0    0.6000  \n",
      "BETAUSDT                2.8353         1.0    0.5000  \n",
      "BICOUSDT                0.5317         1.0    0.5000  \n",
      "BLZUSDT                 1.6881         1.0    0.3000  \n",
      "BNBUPUSDT               2.0331         1.0    0.4000  \n",
      "BNBUSDT                 2.4271         1.0    0.4000  \n",
      "BNTUSDT                 3.0052         1.0    0.3000  \n"
     ]
    },
    {
     "name": "stderr",
     "output_type": "stream",
     "text": [
      "c:\\Users\\lince\\Documents\\Dauphine\\M2\\POO\\POO2\\POO_Projet\\mypackage\\Strategy_Manager_Class.py:115: FutureWarning:\n",
      "\n",
      "DataFrame.applymap has been deprecated. Use DataFrame.map instead.\n",
      "\n"
     ]
    }
   ],
   "source": [
    "# Affichage des statistiques des différents actifs pour la stratégie précise\n",
    "manager.print_statistics(strategy_name=\"vol_strat_monthly\",detail=True)\n",
    "\n",
    "# Affichage des statistiques des différents actifs pour toutes les stratégies \n",
    "# manager.print_statistics(detail=True)"
   ]
  },
  {
   "cell_type": "markdown",
   "metadata": {},
   "source": [
    "## Analyse Backtest"
   ]
  },
  {
   "cell_type": "markdown",
   "metadata": {},
   "source": [
    "\n",
    "#### **1. Total Return et Annual Return**  \n",
    "Le rendement total est pratiquement nul (0.0%), ce qui reflète une incapacité de la stratégie à générer des profits nets sur la période observée. De manière cohérente, le rendement annualisé (-0.03%) confirme l’absence de surperformance, même après ajustement sur une base annualisée.\n",
    "\n",
    "#### **2. Profit Factor (0.9839)**  \n",
    "Un facteur de profit inférieur à 1 indique que les pertes totales surpassent légèrement les gains. Cela met en évidence une stratégie qui n'est pas profitable sur le plan global. Ce résultat suggère que les trades perdants ont un impact significatif sur les performances globales.\n",
    "\n",
    "#### **3. Volatilité (0.0035)**  \n",
    "La volatilité extrêmement faible (0.35%) traduit une prise de risque limitée. Bien que cela soit un indicateur de stabilité, une volatilité aussi basse peut également indiquer une stratégie peu exposée aux opportunités de marché.\n",
    "\n",
    "#### **4. Sharpe Ratio (-0.0967)**  \n",
    "Le ratio Sharpe est négatif, ce qui souligne que le rendement ajusté au risque est insuffisant pour compenser la volatilité. Ce résultat reflète l’incapacité de la stratégie à générer des rendements supérieurs au taux sans risque, même dans un contexte de faible volatilité.\n",
    "\n",
    "#### **5. Max Drawdown (-0.0009)**  \n",
    "Le drawdown maximal est faible, traduisant une gestion prudente des pertes. Cette caractéristique met en avant un contrôle rigoureux des risques.\n",
    "\n",
    "#### **6. Sortino Ratio (-0.0759)**  \n",
    "Le ratio Sortino, qui se concentre sur la volatilité liée aux pertes, est également négatif. Cela montre que les pertes dominent les rendements dans la stratégie, ce qui est cohérent avec le ratio Sharpe négatif.\n",
    "\n",
    "#### **7. VaR (95%) et CVaR (95%)**  \n",
    "- **VaR (95%)** : -0.0003  \n",
    "  Cette valeur indique qu’avec une probabilité de 95%, la perte ne dépassera pas 0.03%.  \n",
    "- **CVaR (95%)** : -0.0005  \n",
    "  La CVaR, qui mesure la perte moyenne dans les pires scénarios, confirme une exposition limitée aux risques extrêmes.\n",
    "\n",
    "Ces deux métriques soulignent une gestion efficace des risques liés aux événements extrêmes, bien que cela se fasse au détriment du rendement.\n",
    "\n",
    "#### **8. Profit/Loss Ratio (0.6559)**  \n",
    "Le ratio gain/perte montre que, en moyenne, les pertes par trade sont supérieures aux gains. Avec un ratio inférieur à 1, chaque trade perdant efface une grande partie des gains cumulés.\n",
    "\n",
    "#### **9. Nombre de trades et Win Rate**  \n",
    "- La stratégie a exécuté 36 trades au total, ce qui indique une fréquence d’opérations modérée.  \n",
    "- Le taux de réussite (60%) montre que la majorité des trades sont gagnants, mais les gains générés sont insuffisants pour compenser les pertes.\n",
    "\n",
    "\n",
    "L’ensemble des statistiques met en évidence une stratégie avec un excellent contrôle des risques, mais une incapacité à générer des rendements attractifs. Les métriques comme le ratio Sharpe et le profit factor confirment une sous-performance dans un contexte de volatilité maîtrisée."
   ]
  },
  {
   "cell_type": "markdown",
   "metadata": {},
   "source": [
    "## Graphique"
   ]
  },
  {
   "cell_type": "code",
   "execution_count": 19,
   "metadata": {},
   "outputs": [],
   "source": [
    "# Choix du backend utilisé pour les graphiques\n",
    "backend = 'plotly' # 'plotly' # 'matplotlib' # 'seaborn'"
   ]
  },
  {
   "cell_type": "code",
   "execution_count": 20,
   "metadata": {},
   "outputs": [
    {
     "data": {
      "application/vnd.plotly.v1+json": {
       "config": {
        "plotlyServerURL": "https://plot.ly"
       },
       "data": [
        {
         "mode": "lines",
         "name": "vol_strat_monthly",
         "type": "scatter",
         "x": [
          "2022-01-31T00:00:00",
          "2022-02-28T00:00:00",
          "2022-03-31T00:00:00",
          "2022-04-30T00:00:00",
          "2022-05-31T00:00:00",
          "2022-06-30T00:00:00",
          "2022-07-31T00:00:00",
          "2022-08-31T00:00:00",
          "2022-09-30T00:00:00",
          "2022-10-31T00:00:00",
          "2022-11-30T00:00:00",
          "2022-12-31T00:00:00"
         ],
         "y": [
          1,
          1.0000145081997889,
          1.0002838725711383,
          1.0005367161795875,
          1.0000683407935635,
          0.9998182592593189,
          0.9996642522372023,
          0.9997206342400942,
          0.9999797532160034,
          1.0001040428684844,
          0.9999837735351629,
          0.9999837735351629
         ]
        }
       ],
       "layout": {
        "height": 600,
        "showlegend": true,
        "template": {
         "data": {
          "bar": [
           {
            "error_x": {
             "color": "#2a3f5f"
            },
            "error_y": {
             "color": "#2a3f5f"
            },
            "marker": {
             "line": {
              "color": "#E5ECF6",
              "width": 0.5
             },
             "pattern": {
              "fillmode": "overlay",
              "size": 10,
              "solidity": 0.2
             }
            },
            "type": "bar"
           }
          ],
          "barpolar": [
           {
            "marker": {
             "line": {
              "color": "#E5ECF6",
              "width": 0.5
             },
             "pattern": {
              "fillmode": "overlay",
              "size": 10,
              "solidity": 0.2
             }
            },
            "type": "barpolar"
           }
          ],
          "carpet": [
           {
            "aaxis": {
             "endlinecolor": "#2a3f5f",
             "gridcolor": "white",
             "linecolor": "white",
             "minorgridcolor": "white",
             "startlinecolor": "#2a3f5f"
            },
            "baxis": {
             "endlinecolor": "#2a3f5f",
             "gridcolor": "white",
             "linecolor": "white",
             "minorgridcolor": "white",
             "startlinecolor": "#2a3f5f"
            },
            "type": "carpet"
           }
          ],
          "choropleth": [
           {
            "colorbar": {
             "outlinewidth": 0,
             "ticks": ""
            },
            "type": "choropleth"
           }
          ],
          "contour": [
           {
            "colorbar": {
             "outlinewidth": 0,
             "ticks": ""
            },
            "colorscale": [
             [
              0,
              "#0d0887"
             ],
             [
              0.1111111111111111,
              "#46039f"
             ],
             [
              0.2222222222222222,
              "#7201a8"
             ],
             [
              0.3333333333333333,
              "#9c179e"
             ],
             [
              0.4444444444444444,
              "#bd3786"
             ],
             [
              0.5555555555555556,
              "#d8576b"
             ],
             [
              0.6666666666666666,
              "#ed7953"
             ],
             [
              0.7777777777777778,
              "#fb9f3a"
             ],
             [
              0.8888888888888888,
              "#fdca26"
             ],
             [
              1,
              "#f0f921"
             ]
            ],
            "type": "contour"
           }
          ],
          "contourcarpet": [
           {
            "colorbar": {
             "outlinewidth": 0,
             "ticks": ""
            },
            "type": "contourcarpet"
           }
          ],
          "heatmap": [
           {
            "colorbar": {
             "outlinewidth": 0,
             "ticks": ""
            },
            "colorscale": [
             [
              0,
              "#0d0887"
             ],
             [
              0.1111111111111111,
              "#46039f"
             ],
             [
              0.2222222222222222,
              "#7201a8"
             ],
             [
              0.3333333333333333,
              "#9c179e"
             ],
             [
              0.4444444444444444,
              "#bd3786"
             ],
             [
              0.5555555555555556,
              "#d8576b"
             ],
             [
              0.6666666666666666,
              "#ed7953"
             ],
             [
              0.7777777777777778,
              "#fb9f3a"
             ],
             [
              0.8888888888888888,
              "#fdca26"
             ],
             [
              1,
              "#f0f921"
             ]
            ],
            "type": "heatmap"
           }
          ],
          "heatmapgl": [
           {
            "colorbar": {
             "outlinewidth": 0,
             "ticks": ""
            },
            "colorscale": [
             [
              0,
              "#0d0887"
             ],
             [
              0.1111111111111111,
              "#46039f"
             ],
             [
              0.2222222222222222,
              "#7201a8"
             ],
             [
              0.3333333333333333,
              "#9c179e"
             ],
             [
              0.4444444444444444,
              "#bd3786"
             ],
             [
              0.5555555555555556,
              "#d8576b"
             ],
             [
              0.6666666666666666,
              "#ed7953"
             ],
             [
              0.7777777777777778,
              "#fb9f3a"
             ],
             [
              0.8888888888888888,
              "#fdca26"
             ],
             [
              1,
              "#f0f921"
             ]
            ],
            "type": "heatmapgl"
           }
          ],
          "histogram": [
           {
            "marker": {
             "pattern": {
              "fillmode": "overlay",
              "size": 10,
              "solidity": 0.2
             }
            },
            "type": "histogram"
           }
          ],
          "histogram2d": [
           {
            "colorbar": {
             "outlinewidth": 0,
             "ticks": ""
            },
            "colorscale": [
             [
              0,
              "#0d0887"
             ],
             [
              0.1111111111111111,
              "#46039f"
             ],
             [
              0.2222222222222222,
              "#7201a8"
             ],
             [
              0.3333333333333333,
              "#9c179e"
             ],
             [
              0.4444444444444444,
              "#bd3786"
             ],
             [
              0.5555555555555556,
              "#d8576b"
             ],
             [
              0.6666666666666666,
              "#ed7953"
             ],
             [
              0.7777777777777778,
              "#fb9f3a"
             ],
             [
              0.8888888888888888,
              "#fdca26"
             ],
             [
              1,
              "#f0f921"
             ]
            ],
            "type": "histogram2d"
           }
          ],
          "histogram2dcontour": [
           {
            "colorbar": {
             "outlinewidth": 0,
             "ticks": ""
            },
            "colorscale": [
             [
              0,
              "#0d0887"
             ],
             [
              0.1111111111111111,
              "#46039f"
             ],
             [
              0.2222222222222222,
              "#7201a8"
             ],
             [
              0.3333333333333333,
              "#9c179e"
             ],
             [
              0.4444444444444444,
              "#bd3786"
             ],
             [
              0.5555555555555556,
              "#d8576b"
             ],
             [
              0.6666666666666666,
              "#ed7953"
             ],
             [
              0.7777777777777778,
              "#fb9f3a"
             ],
             [
              0.8888888888888888,
              "#fdca26"
             ],
             [
              1,
              "#f0f921"
             ]
            ],
            "type": "histogram2dcontour"
           }
          ],
          "mesh3d": [
           {
            "colorbar": {
             "outlinewidth": 0,
             "ticks": ""
            },
            "type": "mesh3d"
           }
          ],
          "parcoords": [
           {
            "line": {
             "colorbar": {
              "outlinewidth": 0,
              "ticks": ""
             }
            },
            "type": "parcoords"
           }
          ],
          "pie": [
           {
            "automargin": true,
            "type": "pie"
           }
          ],
          "scatter": [
           {
            "fillpattern": {
             "fillmode": "overlay",
             "size": 10,
             "solidity": 0.2
            },
            "type": "scatter"
           }
          ],
          "scatter3d": [
           {
            "line": {
             "colorbar": {
              "outlinewidth": 0,
              "ticks": ""
             }
            },
            "marker": {
             "colorbar": {
              "outlinewidth": 0,
              "ticks": ""
             }
            },
            "type": "scatter3d"
           }
          ],
          "scattercarpet": [
           {
            "marker": {
             "colorbar": {
              "outlinewidth": 0,
              "ticks": ""
             }
            },
            "type": "scattercarpet"
           }
          ],
          "scattergeo": [
           {
            "marker": {
             "colorbar": {
              "outlinewidth": 0,
              "ticks": ""
             }
            },
            "type": "scattergeo"
           }
          ],
          "scattergl": [
           {
            "marker": {
             "colorbar": {
              "outlinewidth": 0,
              "ticks": ""
             }
            },
            "type": "scattergl"
           }
          ],
          "scattermapbox": [
           {
            "marker": {
             "colorbar": {
              "outlinewidth": 0,
              "ticks": ""
             }
            },
            "type": "scattermapbox"
           }
          ],
          "scatterpolar": [
           {
            "marker": {
             "colorbar": {
              "outlinewidth": 0,
              "ticks": ""
             }
            },
            "type": "scatterpolar"
           }
          ],
          "scatterpolargl": [
           {
            "marker": {
             "colorbar": {
              "outlinewidth": 0,
              "ticks": ""
             }
            },
            "type": "scatterpolargl"
           }
          ],
          "scatterternary": [
           {
            "marker": {
             "colorbar": {
              "outlinewidth": 0,
              "ticks": ""
             }
            },
            "type": "scatterternary"
           }
          ],
          "surface": [
           {
            "colorbar": {
             "outlinewidth": 0,
             "ticks": ""
            },
            "colorscale": [
             [
              0,
              "#0d0887"
             ],
             [
              0.1111111111111111,
              "#46039f"
             ],
             [
              0.2222222222222222,
              "#7201a8"
             ],
             [
              0.3333333333333333,
              "#9c179e"
             ],
             [
              0.4444444444444444,
              "#bd3786"
             ],
             [
              0.5555555555555556,
              "#d8576b"
             ],
             [
              0.6666666666666666,
              "#ed7953"
             ],
             [
              0.7777777777777778,
              "#fb9f3a"
             ],
             [
              0.8888888888888888,
              "#fdca26"
             ],
             [
              1,
              "#f0f921"
             ]
            ],
            "type": "surface"
           }
          ],
          "table": [
           {
            "cells": {
             "fill": {
              "color": "#EBF0F8"
             },
             "line": {
              "color": "white"
             }
            },
            "header": {
             "fill": {
              "color": "#C8D4E3"
             },
             "line": {
              "color": "white"
             }
            },
            "type": "table"
           }
          ]
         },
         "layout": {
          "annotationdefaults": {
           "arrowcolor": "#2a3f5f",
           "arrowhead": 0,
           "arrowwidth": 1
          },
          "autotypenumbers": "strict",
          "coloraxis": {
           "colorbar": {
            "outlinewidth": 0,
            "ticks": ""
           }
          },
          "colorscale": {
           "diverging": [
            [
             0,
             "#8e0152"
            ],
            [
             0.1,
             "#c51b7d"
            ],
            [
             0.2,
             "#de77ae"
            ],
            [
             0.3,
             "#f1b6da"
            ],
            [
             0.4,
             "#fde0ef"
            ],
            [
             0.5,
             "#f7f7f7"
            ],
            [
             0.6,
             "#e6f5d0"
            ],
            [
             0.7,
             "#b8e186"
            ],
            [
             0.8,
             "#7fbc41"
            ],
            [
             0.9,
             "#4d9221"
            ],
            [
             1,
             "#276419"
            ]
           ],
           "sequential": [
            [
             0,
             "#0d0887"
            ],
            [
             0.1111111111111111,
             "#46039f"
            ],
            [
             0.2222222222222222,
             "#7201a8"
            ],
            [
             0.3333333333333333,
             "#9c179e"
            ],
            [
             0.4444444444444444,
             "#bd3786"
            ],
            [
             0.5555555555555556,
             "#d8576b"
            ],
            [
             0.6666666666666666,
             "#ed7953"
            ],
            [
             0.7777777777777778,
             "#fb9f3a"
            ],
            [
             0.8888888888888888,
             "#fdca26"
            ],
            [
             1,
             "#f0f921"
            ]
           ],
           "sequentialminus": [
            [
             0,
             "#0d0887"
            ],
            [
             0.1111111111111111,
             "#46039f"
            ],
            [
             0.2222222222222222,
             "#7201a8"
            ],
            [
             0.3333333333333333,
             "#9c179e"
            ],
            [
             0.4444444444444444,
             "#bd3786"
            ],
            [
             0.5555555555555556,
             "#d8576b"
            ],
            [
             0.6666666666666666,
             "#ed7953"
            ],
            [
             0.7777777777777778,
             "#fb9f3a"
            ],
            [
             0.8888888888888888,
             "#fdca26"
            ],
            [
             1,
             "#f0f921"
            ]
           ]
          },
          "colorway": [
           "#636efa",
           "#EF553B",
           "#00cc96",
           "#ab63fa",
           "#FFA15A",
           "#19d3f3",
           "#FF6692",
           "#B6E880",
           "#FF97FF",
           "#FECB52"
          ],
          "font": {
           "color": "#2a3f5f"
          },
          "geo": {
           "bgcolor": "white",
           "lakecolor": "white",
           "landcolor": "#E5ECF6",
           "showlakes": true,
           "showland": true,
           "subunitcolor": "white"
          },
          "hoverlabel": {
           "align": "left"
          },
          "hovermode": "closest",
          "mapbox": {
           "style": "light"
          },
          "paper_bgcolor": "white",
          "plot_bgcolor": "#E5ECF6",
          "polar": {
           "angularaxis": {
            "gridcolor": "white",
            "linecolor": "white",
            "ticks": ""
           },
           "bgcolor": "#E5ECF6",
           "radialaxis": {
            "gridcolor": "white",
            "linecolor": "white",
            "ticks": ""
           }
          },
          "scene": {
           "xaxis": {
            "backgroundcolor": "#E5ECF6",
            "gridcolor": "white",
            "gridwidth": 2,
            "linecolor": "white",
            "showbackground": true,
            "ticks": "",
            "zerolinecolor": "white"
           },
           "yaxis": {
            "backgroundcolor": "#E5ECF6",
            "gridcolor": "white",
            "gridwidth": 2,
            "linecolor": "white",
            "showbackground": true,
            "ticks": "",
            "zerolinecolor": "white"
           },
           "zaxis": {
            "backgroundcolor": "#E5ECF6",
            "gridcolor": "white",
            "gridwidth": 2,
            "linecolor": "white",
            "showbackground": true,
            "ticks": "",
            "zerolinecolor": "white"
           }
          },
          "shapedefaults": {
           "line": {
            "color": "#2a3f5f"
           }
          },
          "ternary": {
           "aaxis": {
            "gridcolor": "white",
            "linecolor": "white",
            "ticks": ""
           },
           "baxis": {
            "gridcolor": "white",
            "linecolor": "white",
            "ticks": ""
           },
           "bgcolor": "#E5ECF6",
           "caxis": {
            "gridcolor": "white",
            "linecolor": "white",
            "ticks": ""
           }
          },
          "title": {
           "x": 0.05
          },
          "xaxis": {
           "automargin": true,
           "gridcolor": "white",
           "linecolor": "white",
           "ticks": "",
           "title": {
            "standoff": 15
           },
           "zerolinecolor": "white",
           "zerolinewidth": 2
          },
          "yaxis": {
           "automargin": true,
           "gridcolor": "white",
           "linecolor": "white",
           "ticks": "",
           "title": {
            "standoff": 15
           },
           "zerolinecolor": "white",
           "zerolinewidth": 2
          }
         }
        },
        "title": {
         "text": "Rendements cumulatifs avec coûts inclus"
        }
       }
      }
     },
     "metadata": {},
     "output_type": "display_data"
    }
   ],
   "source": [
    "# Graphique des différentes stratégies avec possibilité d'inclusion de coûts \n",
    "manager.plot_all_strategies(backend=backend,include_costs=True)"
   ]
  },
  {
   "cell_type": "code",
   "execution_count": 21,
   "metadata": {},
   "outputs": [
    {
     "data": {
      "application/vnd.plotly.v1+json": {
       "config": {
        "plotlyServerURL": "https://plot.ly"
       },
       "data": [
        {
         "mode": "lines",
         "name": "AAVEUSDT",
         "type": "scatter",
         "x": [
          "2022-01-31T00:00:00",
          "2022-02-28T00:00:00",
          "2022-03-31T00:00:00",
          "2022-04-30T00:00:00",
          "2022-05-31T00:00:00",
          "2022-06-30T00:00:00",
          "2022-07-31T00:00:00",
          "2022-08-31T00:00:00",
          "2022-09-30T00:00:00",
          "2022-10-31T00:00:00",
          "2022-11-30T00:00:00",
          "2022-12-31T00:00:00"
         ],
         "y": [
          1,
          0.9970027017899359,
          0.9990003799434128,
          1.0016465983687768,
          1.0027130875067334,
          1.0040615701415736,
          1.003358445792735,
          1.0032594952556744,
          1.0040930080569632,
          1.0040930080569632,
          1.0024177085756272,
          1.0024177085756272
         ]
        },
        {
         "mode": "lines",
         "name": "ACMUSDT",
         "type": "scatter",
         "x": [
          "2022-01-31T00:00:00",
          "2022-02-28T00:00:00",
          "2022-03-31T00:00:00",
          "2022-04-30T00:00:00",
          "2022-05-31T00:00:00",
          "2022-06-30T00:00:00",
          "2022-07-31T00:00:00",
          "2022-08-31T00:00:00",
          "2022-09-30T00:00:00",
          "2022-10-31T00:00:00",
          "2022-11-30T00:00:00",
          "2022-12-31T00:00:00"
         ],
         "y": [
          1,
          1.0034551176792557,
          1.0078527140636235,
          1.0066966042314538,
          1.0059983308654818,
          1.0055008913185153,
          1.0056980126779547,
          1.0073200622768905,
          1.00714813531627,
          1.0070130247236124,
          1.0070447997149263,
          1.0070447997149263
         ]
        },
        {
         "mode": "lines",
         "name": "ADAUSDT",
         "type": "scatter",
         "x": [
          "2022-01-31T00:00:00",
          "2022-02-28T00:00:00",
          "2022-03-31T00:00:00",
          "2022-04-30T00:00:00",
          "2022-05-31T00:00:00",
          "2022-06-30T00:00:00",
          "2022-07-31T00:00:00",
          "2022-08-31T00:00:00",
          "2022-09-30T00:00:00",
          "2022-10-31T00:00:00",
          "2022-11-30T00:00:00",
          "2022-12-31T00:00:00"
         ],
         "y": [
          1,
          0.9965602284527518,
          0.9976777616497832,
          0.9993719626201129,
          0.9965949550019746,
          0.9969690522073058,
          0.997505769981944,
          0.9979277267374355,
          0.9981428573691346,
          0.9981496932149142,
          0.9972978154222645,
          0.9972978154222645
         ]
        },
        {
         "mode": "lines",
         "name": "ADXUSDT",
         "type": "scatter",
         "x": [
          "2022-01-31T00:00:00",
          "2022-02-28T00:00:00",
          "2022-03-31T00:00:00",
          "2022-04-30T00:00:00",
          "2022-05-31T00:00:00",
          "2022-06-30T00:00:00",
          "2022-07-31T00:00:00",
          "2022-08-31T00:00:00",
          "2022-09-30T00:00:00",
          "2022-10-31T00:00:00",
          "2022-11-30T00:00:00",
          "2022-12-31T00:00:00"
         ],
         "y": [
          1,
          1.0026519008825525,
          1.0012747354433182,
          0.9993232111918837,
          0.9993840327915522,
          0.9995021632918822,
          1.0012232563771228,
          1.0015304687689792,
          1.0016625532356813,
          1.0011096516380125,
          1.0030061769465646,
          1.0030061769465646
         ]
        },
        {
         "mode": "lines",
         "name": "AGLDUSDT",
         "type": "scatter",
         "x": [
          "2022-01-31T00:00:00",
          "2022-02-28T00:00:00",
          "2022-03-31T00:00:00",
          "2022-04-30T00:00:00",
          "2022-05-31T00:00:00",
          "2022-06-30T00:00:00",
          "2022-07-31T00:00:00",
          "2022-08-31T00:00:00",
          "2022-09-30T00:00:00",
          "2022-10-31T00:00:00",
          "2022-11-30T00:00:00",
          "2022-12-31T00:00:00"
         ],
         "y": [
          1,
          0.9986311715283678,
          0.9986969055443977,
          1.0007739674847036,
          0.9994716590185073,
          1.0016973929052104,
          1.0014549098761847,
          1.0002853762810673,
          1.0004568929779605,
          1.0004568929779605,
          0.9978547891156583,
          0.9978547891156583
         ]
        },
        {
         "mode": "lines",
         "name": "ALGOUSDT",
         "type": "scatter",
         "x": [
          "2022-01-31T00:00:00",
          "2022-02-28T00:00:00",
          "2022-03-31T00:00:00",
          "2022-04-30T00:00:00",
          "2022-05-31T00:00:00",
          "2022-06-30T00:00:00",
          "2022-07-31T00:00:00",
          "2022-08-31T00:00:00",
          "2022-09-30T00:00:00",
          "2022-10-31T00:00:00",
          "2022-11-30T00:00:00",
          "2022-12-31T00:00:00"
         ],
         "y": [
          1,
          0.9975522965934096,
          0.9974715536382569,
          1.0005458273500396,
          1.0011280169927623,
          0.9999297456948482,
          1.000061345700862,
          1.0003566694102501,
          1.0004662855256798,
          1.0005127065671389,
          0.9997163405562361,
          0.9997163405562361
         ]
        },
        {
         "mode": "lines",
         "name": "ALICEUSDT",
         "type": "scatter",
         "x": [
          "2022-01-31T00:00:00",
          "2022-02-28T00:00:00",
          "2022-03-31T00:00:00",
          "2022-04-30T00:00:00",
          "2022-05-31T00:00:00",
          "2022-06-30T00:00:00",
          "2022-07-31T00:00:00",
          "2022-08-31T00:00:00",
          "2022-09-30T00:00:00",
          "2022-10-31T00:00:00",
          "2022-11-30T00:00:00",
          "2022-12-31T00:00:00"
         ],
         "y": [
          1,
          1.0033845137857025,
          1.0024530657223483,
          0.9979863142918448,
          0.9971639110662232,
          0.9943618031765991,
          0.9947616858069569,
          0.9943959645989396,
          0.994444481185815,
          0.9942993491833069,
          0.9962608921170698,
          0.9962608921170698
         ]
        },
        {
         "mode": "lines",
         "name": "ALPACAUSDT",
         "type": "scatter",
         "x": [
          "2022-01-31T00:00:00",
          "2022-02-28T00:00:00",
          "2022-03-31T00:00:00",
          "2022-04-30T00:00:00",
          "2022-05-31T00:00:00",
          "2022-06-30T00:00:00",
          "2022-07-31T00:00:00",
          "2022-08-31T00:00:00",
          "2022-09-30T00:00:00",
          "2022-10-31T00:00:00",
          "2022-11-30T00:00:00",
          "2022-12-31T00:00:00"
         ],
         "y": [
          1,
          1.0006887639172914,
          1.0001366216929077,
          0.9953548380150304,
          0.9959209399258698,
          0.9951190712141743,
          0.9952970028079586,
          0.9958550972280976,
          0.9964006372526473,
          0.9964770952512088,
          0.9981907761926572,
          0.9981907761926572
         ]
        },
        {
         "mode": "lines",
         "name": "ALPHAUSDT",
         "type": "scatter",
         "x": [
          "2022-01-31T00:00:00",
          "2022-02-28T00:00:00",
          "2022-03-31T00:00:00",
          "2022-04-30T00:00:00",
          "2022-05-31T00:00:00",
          "2022-06-30T00:00:00",
          "2022-07-31T00:00:00",
          "2022-08-31T00:00:00",
          "2022-09-30T00:00:00",
          "2022-10-31T00:00:00",
          "2022-11-30T00:00:00",
          "2022-12-31T00:00:00"
         ],
         "y": [
          1,
          0.9966604958437693,
          0.9964942793825935,
          0.9997963726850015,
          0.9993034770164332,
          0.9995699191884126,
          1.0003357503217087,
          1.0002671966107493,
          1.001178186771597,
          1.0011546185468614,
          1.0003109489244906,
          1.0003109489244906
         ]
        },
        {
         "mode": "lines",
         "name": "AMPUSDT",
         "type": "scatter",
         "x": [
          "2022-01-31T00:00:00",
          "2022-02-28T00:00:00",
          "2022-03-31T00:00:00",
          "2022-04-30T00:00:00",
          "2022-05-31T00:00:00",
          "2022-06-30T00:00:00",
          "2022-07-31T00:00:00",
          "2022-08-31T00:00:00",
          "2022-09-30T00:00:00",
          "2022-10-31T00:00:00",
          "2022-11-30T00:00:00",
          "2022-12-31T00:00:00"
         ],
         "y": [
          1,
          0.9974333498923663,
          0.998096136339679,
          0.9997911079443316,
          0.9999233554453825,
          0.9945432414494038,
          0.9942976752169471,
          0.994252983663764,
          0.9937926813565122,
          0.9941878499982695,
          0.9933803549933976,
          0.9933803549933976
         ]
        },
        {
         "mode": "lines",
         "name": "ANKRUSDT",
         "type": "scatter",
         "x": [
          "2022-01-31T00:00:00",
          "2022-02-28T00:00:00",
          "2022-03-31T00:00:00",
          "2022-04-30T00:00:00",
          "2022-05-31T00:00:00",
          "2022-06-30T00:00:00",
          "2022-07-31T00:00:00",
          "2022-08-31T00:00:00",
          "2022-09-30T00:00:00",
          "2022-10-31T00:00:00",
          "2022-11-30T00:00:00",
          "2022-12-31T00:00:00"
         ],
         "y": [
          1,
          0.9961380610159938,
          0.9954222131765227,
          0.9979263565820049,
          0.9983818195438758,
          0.9983214213696747,
          0.9979215422699012,
          0.9978508078254533,
          0.9984032092512647,
          0.998393766478885,
          0.9971372068185569,
          0.9971372068185569
         ]
        },
        {
         "mode": "lines",
         "name": "ANTUSDT",
         "type": "scatter",
         "x": [
          "2022-01-31T00:00:00",
          "2022-02-28T00:00:00",
          "2022-03-31T00:00:00",
          "2022-04-30T00:00:00",
          "2022-05-31T00:00:00",
          "2022-06-30T00:00:00",
          "2022-07-31T00:00:00",
          "2022-08-31T00:00:00",
          "2022-09-30T00:00:00",
          "2022-10-31T00:00:00",
          "2022-11-30T00:00:00",
          "2022-12-31T00:00:00"
         ],
         "y": [
          1,
          0.9967654831667241,
          0.9983271577096242,
          1.0016447777297062,
          1.0024689797817745,
          1.003549376749277,
          1.0037615256958246,
          1.0024957482359307,
          1.002044173574563,
          1.0015843515419023,
          1.0004898208251722,
          1.0004898208251722
         ]
        },
        {
         "mode": "lines",
         "name": "ARDRUSDT",
         "type": "scatter",
         "x": [
          "2022-01-31T00:00:00",
          "2022-02-28T00:00:00",
          "2022-03-31T00:00:00",
          "2022-04-30T00:00:00",
          "2022-05-31T00:00:00",
          "2022-06-30T00:00:00",
          "2022-07-31T00:00:00",
          "2022-08-31T00:00:00",
          "2022-09-30T00:00:00",
          "2022-10-31T00:00:00",
          "2022-11-30T00:00:00",
          "2022-12-31T00:00:00"
         ],
         "y": [
          1,
          0.9976632784203762,
          0.9974501887772943,
          1.0005753378876399,
          1.0008919470262898,
          1.001699028175877,
          1.0003340295001657,
          1.0003340295001657,
          1.0005892167525892,
          1.0001540265922062,
          0.9993423330484174,
          0.9993423330484174
         ]
        },
        {
         "mode": "lines",
         "name": "ARPAUSDT",
         "type": "scatter",
         "x": [
          "2022-01-31T00:00:00",
          "2022-02-28T00:00:00",
          "2022-03-31T00:00:00",
          "2022-04-30T00:00:00",
          "2022-05-31T00:00:00",
          "2022-06-30T00:00:00",
          "2022-07-31T00:00:00",
          "2022-08-31T00:00:00",
          "2022-09-30T00:00:00",
          "2022-10-31T00:00:00",
          "2022-11-30T00:00:00",
          "2022-12-31T00:00:00"
         ],
         "y": [
          1,
          1.0031832434067072,
          1.0021831770892362,
          0.9991775360153992,
          0.9987272242234787,
          0.9961103638658545,
          0.9961463079192834,
          0.9959665263351485,
          0.996007573422452,
          0.9961753483048749,
          0.99735712225328,
          0.99735712225328
         ]
        },
        {
         "mode": "lines",
         "name": "ARUSDT",
         "type": "scatter",
         "x": [
          "2022-01-31T00:00:00",
          "2022-02-28T00:00:00",
          "2022-03-31T00:00:00",
          "2022-04-30T00:00:00",
          "2022-05-31T00:00:00",
          "2022-06-30T00:00:00",
          "2022-07-31T00:00:00",
          "2022-08-31T00:00:00",
          "2022-09-30T00:00:00",
          "2022-10-31T00:00:00",
          "2022-11-30T00:00:00",
          "2022-12-31T00:00:00"
         ],
         "y": [
          1,
          0.9969990766389658,
          0.9983719990269702,
          1.0010451489648646,
          1.0009721172913426,
          0.9989510649252992,
          0.997537241520457,
          0.9978667880158387,
          0.9970739590069031,
          0.9970205938838562,
          0.9952269539570618,
          0.9952269539570618
         ]
        },
        {
         "mode": "lines",
         "name": "ASRUSDT",
         "type": "scatter",
         "x": [
          "2022-01-31T00:00:00",
          "2022-02-28T00:00:00",
          "2022-03-31T00:00:00",
          "2022-04-30T00:00:00",
          "2022-05-31T00:00:00",
          "2022-06-30T00:00:00",
          "2022-07-31T00:00:00",
          "2022-08-31T00:00:00",
          "2022-09-30T00:00:00",
          "2022-10-31T00:00:00",
          "2022-11-30T00:00:00",
          "2022-12-31T00:00:00"
         ],
         "y": [
          1,
          1.0049112202493389,
          1.004397159542714,
          1.0022710960365517,
          1.0009360236106155,
          1.0014056820301025,
          1.0008862961365153,
          1.0031794865554817,
          1.002864453600357,
          1.0029354503405503,
          1.0033006853916577,
          1.0033006853916577
         ]
        },
        {
         "mode": "lines",
         "name": "ATAUSDT",
         "type": "scatter",
         "x": [
          "2022-01-31T00:00:00",
          "2022-02-28T00:00:00",
          "2022-03-31T00:00:00",
          "2022-04-30T00:00:00",
          "2022-05-31T00:00:00",
          "2022-06-30T00:00:00",
          "2022-07-31T00:00:00",
          "2022-08-31T00:00:00",
          "2022-09-30T00:00:00",
          "2022-10-31T00:00:00",
          "2022-11-30T00:00:00",
          "2022-12-31T00:00:00"
         ],
         "y": [
          1,
          0.9959432853831254,
          0.9954298066837115,
          0.9992856705149934,
          0.9986082634675703,
          0.9995087797760113,
          1.000560840259961,
          1.0007136442978748,
          0.9976414726572207,
          0.9980114392978543,
          0.9969746212398126,
          0.9969746212398126
         ]
        },
        {
         "mode": "lines",
         "name": "ATOMUSDT",
         "type": "scatter",
         "x": [
          "2022-01-31T00:00:00",
          "2022-02-28T00:00:00",
          "2022-03-31T00:00:00",
          "2022-04-30T00:00:00",
          "2022-05-31T00:00:00",
          "2022-06-30T00:00:00",
          "2022-07-31T00:00:00",
          "2022-08-31T00:00:00",
          "2022-09-30T00:00:00",
          "2022-10-31T00:00:00",
          "2022-11-30T00:00:00",
          "2022-12-31T00:00:00"
         ],
         "y": [
          1,
          1.0047627941725812,
          1.0036854001614515,
          1.001390737609642,
          1.0009403766959022,
          1.0015791149242743,
          1.0006590905154227,
          1.0004004030391849,
          1.0009509152716927,
          1.0017478888811944,
          1.0026033688308276,
          1.0026033688308276
         ]
        },
        {
         "mode": "lines",
         "name": "AUCTIONUSDT",
         "type": "scatter",
         "x": [
          "2022-01-31T00:00:00",
          "2022-02-28T00:00:00",
          "2022-03-31T00:00:00",
          "2022-04-30T00:00:00",
          "2022-05-31T00:00:00",
          "2022-06-30T00:00:00",
          "2022-07-31T00:00:00",
          "2022-08-31T00:00:00",
          "2022-09-30T00:00:00",
          "2022-10-31T00:00:00",
          "2022-11-30T00:00:00",
          "2022-12-31T00:00:00"
         ],
         "y": [
          1,
          0.9948885188269035,
          0.9963113185459338,
          0.9979133291951617,
          0.9979133291951617,
          1.0005533115475298,
          1.0016222787607216,
          1.0027044720773806,
          1.0026612892835787,
          1.0028899567916254,
          1.0020020506767147,
          1.0020020506767147
         ]
        },
        {
         "mode": "lines",
         "name": "AUDIOUSDT",
         "type": "scatter",
         "x": [
          "2022-01-31T00:00:00",
          "2022-02-28T00:00:00",
          "2022-03-31T00:00:00",
          "2022-04-30T00:00:00",
          "2022-05-31T00:00:00",
          "2022-06-30T00:00:00",
          "2022-07-31T00:00:00",
          "2022-08-31T00:00:00",
          "2022-09-30T00:00:00",
          "2022-10-31T00:00:00",
          "2022-11-30T00:00:00",
          "2022-12-31T00:00:00"
         ],
         "y": [
          1,
          1.003334849173867,
          1.0018070690879157,
          0.9981798566085973,
          0.9998969091142315,
          0.9981979117066053,
          0.998117773788196,
          0.9975340791836415,
          0.9975340791836415,
          0.9978125644095441,
          0.9996161949118338,
          0.9996161949118338
         ]
        },
        {
         "mode": "lines",
         "name": "AVAXUSDT",
         "type": "scatter",
         "x": [
          "2022-01-31T00:00:00",
          "2022-02-28T00:00:00",
          "2022-03-31T00:00:00",
          "2022-04-30T00:00:00",
          "2022-05-31T00:00:00",
          "2022-06-30T00:00:00",
          "2022-07-31T00:00:00",
          "2022-08-31T00:00:00",
          "2022-09-30T00:00:00",
          "2022-10-31T00:00:00",
          "2022-11-30T00:00:00",
          "2022-12-31T00:00:00"
         ],
         "y": [
          1,
          1.0035041368796531,
          1.0040378412141517,
          1.0012136548574242,
          0.9999189301142849,
          0.998669890166606,
          0.9980859932023457,
          0.9977285330305782,
          0.9974889248334047,
          0.9990366896857383,
          1.0005499770175263,
          1.0005499770175263
         ]
        },
        {
         "mode": "lines",
         "name": "AXSUSDT",
         "type": "scatter",
         "x": [
          "2022-01-31T00:00:00",
          "2022-02-28T00:00:00",
          "2022-03-31T00:00:00",
          "2022-04-30T00:00:00",
          "2022-05-31T00:00:00",
          "2022-06-30T00:00:00",
          "2022-07-31T00:00:00",
          "2022-08-31T00:00:00",
          "2022-09-30T00:00:00",
          "2022-10-31T00:00:00",
          "2022-11-30T00:00:00",
          "2022-12-31T00:00:00"
         ],
         "y": [
          1,
          0.9962955245305735,
          0.9966952393059068,
          1.0009670206162102,
          1.0010597413814009,
          1.00069258565817,
          1.0022489858364572,
          1.0016865565514759,
          1.00203627691686,
          1.0021265504553212,
          1.0010986018355368,
          1.0010986018355368
         ]
        },
        {
         "mode": "lines",
         "name": "BADGERUSDT",
         "type": "scatter",
         "x": [
          "2022-01-31T00:00:00",
          "2022-02-28T00:00:00",
          "2022-03-31T00:00:00",
          "2022-04-30T00:00:00",
          "2022-05-31T00:00:00",
          "2022-06-30T00:00:00",
          "2022-07-31T00:00:00",
          "2022-08-31T00:00:00",
          "2022-09-30T00:00:00",
          "2022-10-31T00:00:00",
          "2022-11-30T00:00:00",
          "2022-12-31T00:00:00"
         ],
         "y": [
          1,
          1.0025953984287317,
          1.0011188969786793,
          0.9994335116302303,
          0.9985922376305415,
          0.9986834832662899,
          0.9976142290015508,
          0.9983652183338314,
          0.9971374833286466,
          0.9970569651210135,
          0.9981937423407824,
          0.9981937423407824
         ]
        },
        {
         "mode": "lines",
         "name": "BALUSDT",
         "type": "scatter",
         "x": [
          "2022-01-31T00:00:00",
          "2022-02-28T00:00:00",
          "2022-03-31T00:00:00",
          "2022-04-30T00:00:00",
          "2022-05-31T00:00:00",
          "2022-06-30T00:00:00",
          "2022-07-31T00:00:00",
          "2022-08-31T00:00:00",
          "2022-09-30T00:00:00",
          "2022-10-31T00:00:00",
          "2022-11-30T00:00:00",
          "2022-12-31T00:00:00"
         ],
         "y": [
          1,
          0.9964381334863263,
          0.9981201807433479,
          1.0013044623896272,
          1.0018519823275045,
          1.00319104529784,
          1.0040235326257865,
          1.0021362703464147,
          1.002110190977274,
          1.001655887807939,
          1.0003868821477324,
          1.0003868821477324
         ]
        },
        {
         "mode": "lines",
         "name": "BANDUSDT",
         "type": "scatter",
         "x": [
          "2022-01-31T00:00:00",
          "2022-02-28T00:00:00",
          "2022-03-31T00:00:00",
          "2022-04-30T00:00:00",
          "2022-05-31T00:00:00",
          "2022-06-30T00:00:00",
          "2022-07-31T00:00:00",
          "2022-08-31T00:00:00",
          "2022-09-30T00:00:00",
          "2022-10-31T00:00:00",
          "2022-11-30T00:00:00",
          "2022-12-31T00:00:00"
         ],
         "y": [
          1,
          0.9960570875665216,
          0.9960966378558879,
          0.9985585967394773,
          0.9985432804839288,
          0.9996405807921529,
          1.0013770369161172,
          1.0005239222312725,
          1.0005917635604176,
          1.0005682290848423,
          0.9985862416742701,
          0.9985862416742701
         ]
        },
        {
         "mode": "lines",
         "name": "BARUSDT",
         "type": "scatter",
         "x": [
          "2022-01-31T00:00:00",
          "2022-02-28T00:00:00",
          "2022-03-31T00:00:00",
          "2022-04-30T00:00:00",
          "2022-05-31T00:00:00",
          "2022-06-30T00:00:00",
          "2022-07-31T00:00:00",
          "2022-08-31T00:00:00",
          "2022-09-30T00:00:00",
          "2022-10-31T00:00:00",
          "2022-11-30T00:00:00",
          "2022-12-31T00:00:00"
         ],
         "y": [
          1,
          1.00540611814346,
          1.0060548868406396,
          1.0035423134739123,
          1.0023196742031106,
          1.0016130190464532,
          1.0018342721984406,
          1.0035418393659061,
          1.003312594610934,
          1.0036257383670548,
          1.00401186707526,
          1.00401186707526
         ]
        },
        {
         "mode": "lines",
         "name": "BATUSDT",
         "type": "scatter",
         "x": [
          "2022-01-31T00:00:00",
          "2022-02-28T00:00:00",
          "2022-03-31T00:00:00",
          "2022-04-30T00:00:00",
          "2022-05-31T00:00:00",
          "2022-06-30T00:00:00",
          "2022-07-31T00:00:00",
          "2022-08-31T00:00:00",
          "2022-09-30T00:00:00",
          "2022-10-31T00:00:00",
          "2022-11-30T00:00:00",
          "2022-12-31T00:00:00"
         ],
         "y": [
          1,
          0.9969403704812265,
          0.9979469891671467,
          1.0006063495258266,
          1.0006201502312984,
          1.00007146962944,
          1.000483021674555,
          1.000623173058652,
          1.0009852061181181,
          1.0010320003702462,
          0.9995022758305895,
          0.9995022758305895
         ]
        },
        {
         "mode": "lines",
         "name": "BCHUSDT",
         "type": "scatter",
         "x": [
          "2022-01-31T00:00:00",
          "2022-02-28T00:00:00",
          "2022-03-31T00:00:00",
          "2022-04-30T00:00:00",
          "2022-05-31T00:00:00",
          "2022-06-30T00:00:00",
          "2022-07-31T00:00:00",
          "2022-08-31T00:00:00",
          "2022-09-30T00:00:00",
          "2022-10-31T00:00:00",
          "2022-11-30T00:00:00",
          "2022-12-31T00:00:00"
         ],
         "y": [
          1,
          1.0031980994152048,
          1.0035060178005377,
          1.0019069331942139,
          1.0029952864735991,
          1.002622386165265,
          1.001435624272515,
          1.0015812664517287,
          1.0023428528153457,
          1.0020790531364059,
          1.0027059794709507,
          1.0027059794709507
         ]
        },
        {
         "mode": "lines",
         "name": "BEAMUSDT",
         "type": "scatter",
         "x": [
          "2022-01-31T00:00:00",
          "2022-02-28T00:00:00",
          "2022-03-31T00:00:00",
          "2022-04-30T00:00:00",
          "2022-05-31T00:00:00",
          "2022-06-30T00:00:00",
          "2022-07-31T00:00:00",
          "2022-08-31T00:00:00",
          "2022-09-30T00:00:00",
          "2022-10-31T00:00:00",
          "2022-11-30T00:00:00",
          "2022-12-31T00:00:00"
         ],
         "y": [
          1,
          0.9974671843224255,
          0.9979605751962671,
          0.999988448213902,
          0.9978347288920364,
          0.998833362527837,
          0.9982858538698588,
          0.9986640705948215,
          0.9989806760519847,
          0.9991591813709674,
          0.9997117196284891,
          0.9997117196284891
         ]
        },
        {
         "mode": "lines",
         "name": "BELUSDT",
         "type": "scatter",
         "x": [
          "2022-01-31T00:00:00",
          "2022-02-28T00:00:00",
          "2022-03-31T00:00:00",
          "2022-04-30T00:00:00",
          "2022-05-31T00:00:00",
          "2022-06-30T00:00:00",
          "2022-07-31T00:00:00",
          "2022-08-31T00:00:00",
          "2022-09-30T00:00:00",
          "2022-10-31T00:00:00",
          "2022-11-30T00:00:00",
          "2022-12-31T00:00:00"
         ],
         "y": [
          1,
          1.0022235905856596,
          1.0045104102864009,
          1.0012045462186976,
          0.9970700708874344,
          0.9956204825017715,
          0.9949009227010694,
          0.9950661611868195,
          0.9964359671117571,
          0.9970694602442128,
          0.9983823809029242,
          0.9983823809029242
         ]
        },
        {
         "mode": "lines",
         "name": "BETAUSDT",
         "type": "scatter",
         "x": [
          "2022-01-31T00:00:00",
          "2022-02-28T00:00:00",
          "2022-03-31T00:00:00",
          "2022-04-30T00:00:00",
          "2022-05-31T00:00:00",
          "2022-06-30T00:00:00",
          "2022-07-31T00:00:00",
          "2022-08-31T00:00:00",
          "2022-09-30T00:00:00",
          "2022-10-31T00:00:00",
          "2022-11-30T00:00:00",
          "2022-12-31T00:00:00"
         ],
         "y": [
          1,
          0.99908250266059,
          1.001491610485329,
          1.0047923302383612,
          1.0078057466541777,
          1.0080141647591625,
          1.0052474441516328,
          1.0050342299125201,
          1.0108965108526569,
          1.010570682746135,
          1.0095559088579347,
          1.0095559088579347
         ]
        },
        {
         "mode": "lines",
         "name": "BICOUSDT",
         "type": "scatter",
         "x": [
          "2022-01-31T00:00:00",
          "2022-02-28T00:00:00",
          "2022-03-31T00:00:00",
          "2022-04-30T00:00:00",
          "2022-05-31T00:00:00",
          "2022-06-30T00:00:00",
          "2022-07-31T00:00:00",
          "2022-08-31T00:00:00",
          "2022-09-30T00:00:00",
          "2022-10-31T00:00:00",
          "2022-11-30T00:00:00",
          "2022-12-31T00:00:00"
         ],
         "y": [
          1,
          0.9964262508122157,
          0.9988647462772724,
          1.0012357888568195,
          0.9944328278613894,
          0.9958839493529529,
          0.9943418993187634,
          0.9945585315408371,
          0.9952685616451302,
          0.9951997896328552,
          0.993628032254208,
          0.993628032254208
         ]
        },
        {
         "mode": "lines",
         "name": "BLZUSDT",
         "type": "scatter",
         "x": [
          "2022-01-31T00:00:00",
          "2022-02-28T00:00:00",
          "2022-03-31T00:00:00",
          "2022-04-30T00:00:00",
          "2022-05-31T00:00:00",
          "2022-06-30T00:00:00",
          "2022-07-31T00:00:00",
          "2022-08-31T00:00:00",
          "2022-09-30T00:00:00",
          "2022-10-31T00:00:00",
          "2022-11-30T00:00:00",
          "2022-12-31T00:00:00"
         ],
         "y": [
          1,
          1.0028836326471018,
          1.0010899664138855,
          0.9989839468211377,
          0.9982330765343113,
          0.9964364007306138,
          0.9956199949683068,
          0.9948872030191153,
          0.9973078531481157,
          0.9969958043830506,
          0.9976903329824117,
          0.9976903329824117
         ]
        },
        {
         "mode": "lines",
         "name": "BNBUPUSDT",
         "type": "scatter",
         "x": [
          "2022-01-31T00:00:00",
          "2022-02-28T00:00:00",
          "2022-03-31T00:00:00",
          "2022-04-30T00:00:00",
          "2022-05-31T00:00:00",
          "2022-06-30T00:00:00",
          "2022-07-31T00:00:00",
          "2022-08-31T00:00:00",
          "2022-09-30T00:00:00",
          "2022-10-31T00:00:00",
          "2022-11-30T00:00:00",
          "2022-12-31T00:00:00"
         ],
         "y": [
          1,
          1.0073634855207934,
          1.0056266872842379,
          1.0022785664698113,
          1.0019425609676165,
          1.0006355125312927,
          0.9999531754859717,
          0.99961802670405,
          0.9998990709085888,
          1.0017771395407002,
          1.0027064049395844,
          1.0027064049395844
         ]
        },
        {
         "mode": "lines",
         "name": "BNBUSDT",
         "type": "scatter",
         "x": [
          "2022-01-31T00:00:00",
          "2022-02-28T00:00:00",
          "2022-03-31T00:00:00",
          "2022-04-30T00:00:00",
          "2022-05-31T00:00:00",
          "2022-06-30T00:00:00",
          "2022-07-31T00:00:00",
          "2022-08-31T00:00:00",
          "2022-09-30T00:00:00",
          "2022-10-31T00:00:00",
          "2022-11-30T00:00:00",
          "2022-12-31T00:00:00"
         ],
         "y": [
          1,
          1.0027384368539602,
          1.001906790710147,
          1.0007808140369572,
          1.0007030653721003,
          1.000690412979123,
          1.0002654421451036,
          1.0000286368794442,
          1.000097081093709,
          1.001178171328455,
          1.001667726591649,
          1.001667726591649
         ]
        },
        {
         "mode": "lines",
         "name": "BNTUSDT",
         "type": "scatter",
         "x": [
          "2022-01-31T00:00:00",
          "2022-02-28T00:00:00",
          "2022-03-31T00:00:00",
          "2022-04-30T00:00:00",
          "2022-05-31T00:00:00",
          "2022-06-30T00:00:00",
          "2022-07-31T00:00:00",
          "2022-08-31T00:00:00",
          "2022-09-30T00:00:00",
          "2022-10-31T00:00:00",
          "2022-11-30T00:00:00",
          "2022-12-31T00:00:00"
         ],
         "y": [
          1,
          1.0032919920379728,
          1.0025843948163284,
          1.0015065209305936,
          1.0008751824291122,
          1.000706343835585,
          1.0003168881656743,
          1.0010628366281396,
          1.0004940509255098,
          1.0000904399091153,
          1.0011275707356877,
          1.0011275707356877
         ]
        },
        {
         "mode": "lines",
         "name": "portfolio",
         "type": "scatter",
         "x": [
          "2022-01-31T00:00:00",
          "2022-02-28T00:00:00",
          "2022-03-31T00:00:00",
          "2022-04-30T00:00:00",
          "2022-05-31T00:00:00",
          "2022-06-30T00:00:00",
          "2022-07-31T00:00:00",
          "2022-08-31T00:00:00",
          "2022-09-30T00:00:00",
          "2022-10-31T00:00:00",
          "2022-11-30T00:00:00",
          "2022-12-31T00:00:00"
         ],
         "y": [
          1,
          1.0000145081997889,
          1.0002838725711383,
          1.0005367161795875,
          1.0000683407935635,
          0.9998182592593189,
          0.9996642522372023,
          0.9997206342400942,
          0.9999797532160034,
          1.0001040428684844,
          0.9999837735351629,
          0.9999837735351629
         ]
        }
       ],
       "layout": {
        "height": 600,
        "legend": {
         "bgcolor": "rgba(255, 255, 255, 0.8)",
         "bordercolor": "rgba(0, 0, 0, 0.2)",
         "borderwidth": 1,
         "orientation": "v",
         "x": 1.05,
         "xanchor": "left",
         "y": 0.5,
         "yanchor": "middle"
        },
        "margin": {
         "b": 50,
         "l": 50,
         "r": 150,
         "t": 60
        },
        "showlegend": true,
        "template": {
         "data": {
          "bar": [
           {
            "error_x": {
             "color": "#2a3f5f"
            },
            "error_y": {
             "color": "#2a3f5f"
            },
            "marker": {
             "line": {
              "color": "white",
              "width": 0.5
             },
             "pattern": {
              "fillmode": "overlay",
              "size": 10,
              "solidity": 0.2
             }
            },
            "type": "bar"
           }
          ],
          "barpolar": [
           {
            "marker": {
             "line": {
              "color": "white",
              "width": 0.5
             },
             "pattern": {
              "fillmode": "overlay",
              "size": 10,
              "solidity": 0.2
             }
            },
            "type": "barpolar"
           }
          ],
          "carpet": [
           {
            "aaxis": {
             "endlinecolor": "#2a3f5f",
             "gridcolor": "#C8D4E3",
             "linecolor": "#C8D4E3",
             "minorgridcolor": "#C8D4E3",
             "startlinecolor": "#2a3f5f"
            },
            "baxis": {
             "endlinecolor": "#2a3f5f",
             "gridcolor": "#C8D4E3",
             "linecolor": "#C8D4E3",
             "minorgridcolor": "#C8D4E3",
             "startlinecolor": "#2a3f5f"
            },
            "type": "carpet"
           }
          ],
          "choropleth": [
           {
            "colorbar": {
             "outlinewidth": 0,
             "ticks": ""
            },
            "type": "choropleth"
           }
          ],
          "contour": [
           {
            "colorbar": {
             "outlinewidth": 0,
             "ticks": ""
            },
            "colorscale": [
             [
              0,
              "#0d0887"
             ],
             [
              0.1111111111111111,
              "#46039f"
             ],
             [
              0.2222222222222222,
              "#7201a8"
             ],
             [
              0.3333333333333333,
              "#9c179e"
             ],
             [
              0.4444444444444444,
              "#bd3786"
             ],
             [
              0.5555555555555556,
              "#d8576b"
             ],
             [
              0.6666666666666666,
              "#ed7953"
             ],
             [
              0.7777777777777778,
              "#fb9f3a"
             ],
             [
              0.8888888888888888,
              "#fdca26"
             ],
             [
              1,
              "#f0f921"
             ]
            ],
            "type": "contour"
           }
          ],
          "contourcarpet": [
           {
            "colorbar": {
             "outlinewidth": 0,
             "ticks": ""
            },
            "type": "contourcarpet"
           }
          ],
          "heatmap": [
           {
            "colorbar": {
             "outlinewidth": 0,
             "ticks": ""
            },
            "colorscale": [
             [
              0,
              "#0d0887"
             ],
             [
              0.1111111111111111,
              "#46039f"
             ],
             [
              0.2222222222222222,
              "#7201a8"
             ],
             [
              0.3333333333333333,
              "#9c179e"
             ],
             [
              0.4444444444444444,
              "#bd3786"
             ],
             [
              0.5555555555555556,
              "#d8576b"
             ],
             [
              0.6666666666666666,
              "#ed7953"
             ],
             [
              0.7777777777777778,
              "#fb9f3a"
             ],
             [
              0.8888888888888888,
              "#fdca26"
             ],
             [
              1,
              "#f0f921"
             ]
            ],
            "type": "heatmap"
           }
          ],
          "heatmapgl": [
           {
            "colorbar": {
             "outlinewidth": 0,
             "ticks": ""
            },
            "colorscale": [
             [
              0,
              "#0d0887"
             ],
             [
              0.1111111111111111,
              "#46039f"
             ],
             [
              0.2222222222222222,
              "#7201a8"
             ],
             [
              0.3333333333333333,
              "#9c179e"
             ],
             [
              0.4444444444444444,
              "#bd3786"
             ],
             [
              0.5555555555555556,
              "#d8576b"
             ],
             [
              0.6666666666666666,
              "#ed7953"
             ],
             [
              0.7777777777777778,
              "#fb9f3a"
             ],
             [
              0.8888888888888888,
              "#fdca26"
             ],
             [
              1,
              "#f0f921"
             ]
            ],
            "type": "heatmapgl"
           }
          ],
          "histogram": [
           {
            "marker": {
             "pattern": {
              "fillmode": "overlay",
              "size": 10,
              "solidity": 0.2
             }
            },
            "type": "histogram"
           }
          ],
          "histogram2d": [
           {
            "colorbar": {
             "outlinewidth": 0,
             "ticks": ""
            },
            "colorscale": [
             [
              0,
              "#0d0887"
             ],
             [
              0.1111111111111111,
              "#46039f"
             ],
             [
              0.2222222222222222,
              "#7201a8"
             ],
             [
              0.3333333333333333,
              "#9c179e"
             ],
             [
              0.4444444444444444,
              "#bd3786"
             ],
             [
              0.5555555555555556,
              "#d8576b"
             ],
             [
              0.6666666666666666,
              "#ed7953"
             ],
             [
              0.7777777777777778,
              "#fb9f3a"
             ],
             [
              0.8888888888888888,
              "#fdca26"
             ],
             [
              1,
              "#f0f921"
             ]
            ],
            "type": "histogram2d"
           }
          ],
          "histogram2dcontour": [
           {
            "colorbar": {
             "outlinewidth": 0,
             "ticks": ""
            },
            "colorscale": [
             [
              0,
              "#0d0887"
             ],
             [
              0.1111111111111111,
              "#46039f"
             ],
             [
              0.2222222222222222,
              "#7201a8"
             ],
             [
              0.3333333333333333,
              "#9c179e"
             ],
             [
              0.4444444444444444,
              "#bd3786"
             ],
             [
              0.5555555555555556,
              "#d8576b"
             ],
             [
              0.6666666666666666,
              "#ed7953"
             ],
             [
              0.7777777777777778,
              "#fb9f3a"
             ],
             [
              0.8888888888888888,
              "#fdca26"
             ],
             [
              1,
              "#f0f921"
             ]
            ],
            "type": "histogram2dcontour"
           }
          ],
          "mesh3d": [
           {
            "colorbar": {
             "outlinewidth": 0,
             "ticks": ""
            },
            "type": "mesh3d"
           }
          ],
          "parcoords": [
           {
            "line": {
             "colorbar": {
              "outlinewidth": 0,
              "ticks": ""
             }
            },
            "type": "parcoords"
           }
          ],
          "pie": [
           {
            "automargin": true,
            "type": "pie"
           }
          ],
          "scatter": [
           {
            "fillpattern": {
             "fillmode": "overlay",
             "size": 10,
             "solidity": 0.2
            },
            "type": "scatter"
           }
          ],
          "scatter3d": [
           {
            "line": {
             "colorbar": {
              "outlinewidth": 0,
              "ticks": ""
             }
            },
            "marker": {
             "colorbar": {
              "outlinewidth": 0,
              "ticks": ""
             }
            },
            "type": "scatter3d"
           }
          ],
          "scattercarpet": [
           {
            "marker": {
             "colorbar": {
              "outlinewidth": 0,
              "ticks": ""
             }
            },
            "type": "scattercarpet"
           }
          ],
          "scattergeo": [
           {
            "marker": {
             "colorbar": {
              "outlinewidth": 0,
              "ticks": ""
             }
            },
            "type": "scattergeo"
           }
          ],
          "scattergl": [
           {
            "marker": {
             "colorbar": {
              "outlinewidth": 0,
              "ticks": ""
             }
            },
            "type": "scattergl"
           }
          ],
          "scattermapbox": [
           {
            "marker": {
             "colorbar": {
              "outlinewidth": 0,
              "ticks": ""
             }
            },
            "type": "scattermapbox"
           }
          ],
          "scatterpolar": [
           {
            "marker": {
             "colorbar": {
              "outlinewidth": 0,
              "ticks": ""
             }
            },
            "type": "scatterpolar"
           }
          ],
          "scatterpolargl": [
           {
            "marker": {
             "colorbar": {
              "outlinewidth": 0,
              "ticks": ""
             }
            },
            "type": "scatterpolargl"
           }
          ],
          "scatterternary": [
           {
            "marker": {
             "colorbar": {
              "outlinewidth": 0,
              "ticks": ""
             }
            },
            "type": "scatterternary"
           }
          ],
          "surface": [
           {
            "colorbar": {
             "outlinewidth": 0,
             "ticks": ""
            },
            "colorscale": [
             [
              0,
              "#0d0887"
             ],
             [
              0.1111111111111111,
              "#46039f"
             ],
             [
              0.2222222222222222,
              "#7201a8"
             ],
             [
              0.3333333333333333,
              "#9c179e"
             ],
             [
              0.4444444444444444,
              "#bd3786"
             ],
             [
              0.5555555555555556,
              "#d8576b"
             ],
             [
              0.6666666666666666,
              "#ed7953"
             ],
             [
              0.7777777777777778,
              "#fb9f3a"
             ],
             [
              0.8888888888888888,
              "#fdca26"
             ],
             [
              1,
              "#f0f921"
             ]
            ],
            "type": "surface"
           }
          ],
          "table": [
           {
            "cells": {
             "fill": {
              "color": "#EBF0F8"
             },
             "line": {
              "color": "white"
             }
            },
            "header": {
             "fill": {
              "color": "#C8D4E3"
             },
             "line": {
              "color": "white"
             }
            },
            "type": "table"
           }
          ]
         },
         "layout": {
          "annotationdefaults": {
           "arrowcolor": "#2a3f5f",
           "arrowhead": 0,
           "arrowwidth": 1
          },
          "autotypenumbers": "strict",
          "coloraxis": {
           "colorbar": {
            "outlinewidth": 0,
            "ticks": ""
           }
          },
          "colorscale": {
           "diverging": [
            [
             0,
             "#8e0152"
            ],
            [
             0.1,
             "#c51b7d"
            ],
            [
             0.2,
             "#de77ae"
            ],
            [
             0.3,
             "#f1b6da"
            ],
            [
             0.4,
             "#fde0ef"
            ],
            [
             0.5,
             "#f7f7f7"
            ],
            [
             0.6,
             "#e6f5d0"
            ],
            [
             0.7,
             "#b8e186"
            ],
            [
             0.8,
             "#7fbc41"
            ],
            [
             0.9,
             "#4d9221"
            ],
            [
             1,
             "#276419"
            ]
           ],
           "sequential": [
            [
             0,
             "#0d0887"
            ],
            [
             0.1111111111111111,
             "#46039f"
            ],
            [
             0.2222222222222222,
             "#7201a8"
            ],
            [
             0.3333333333333333,
             "#9c179e"
            ],
            [
             0.4444444444444444,
             "#bd3786"
            ],
            [
             0.5555555555555556,
             "#d8576b"
            ],
            [
             0.6666666666666666,
             "#ed7953"
            ],
            [
             0.7777777777777778,
             "#fb9f3a"
            ],
            [
             0.8888888888888888,
             "#fdca26"
            ],
            [
             1,
             "#f0f921"
            ]
           ],
           "sequentialminus": [
            [
             0,
             "#0d0887"
            ],
            [
             0.1111111111111111,
             "#46039f"
            ],
            [
             0.2222222222222222,
             "#7201a8"
            ],
            [
             0.3333333333333333,
             "#9c179e"
            ],
            [
             0.4444444444444444,
             "#bd3786"
            ],
            [
             0.5555555555555556,
             "#d8576b"
            ],
            [
             0.6666666666666666,
             "#ed7953"
            ],
            [
             0.7777777777777778,
             "#fb9f3a"
            ],
            [
             0.8888888888888888,
             "#fdca26"
            ],
            [
             1,
             "#f0f921"
            ]
           ]
          },
          "colorway": [
           "#636efa",
           "#EF553B",
           "#00cc96",
           "#ab63fa",
           "#FFA15A",
           "#19d3f3",
           "#FF6692",
           "#B6E880",
           "#FF97FF",
           "#FECB52"
          ],
          "font": {
           "color": "#2a3f5f"
          },
          "geo": {
           "bgcolor": "white",
           "lakecolor": "white",
           "landcolor": "white",
           "showlakes": true,
           "showland": true,
           "subunitcolor": "#C8D4E3"
          },
          "hoverlabel": {
           "align": "left"
          },
          "hovermode": "closest",
          "mapbox": {
           "style": "light"
          },
          "paper_bgcolor": "white",
          "plot_bgcolor": "white",
          "polar": {
           "angularaxis": {
            "gridcolor": "#EBF0F8",
            "linecolor": "#EBF0F8",
            "ticks": ""
           },
           "bgcolor": "white",
           "radialaxis": {
            "gridcolor": "#EBF0F8",
            "linecolor": "#EBF0F8",
            "ticks": ""
           }
          },
          "scene": {
           "xaxis": {
            "backgroundcolor": "white",
            "gridcolor": "#DFE8F3",
            "gridwidth": 2,
            "linecolor": "#EBF0F8",
            "showbackground": true,
            "ticks": "",
            "zerolinecolor": "#EBF0F8"
           },
           "yaxis": {
            "backgroundcolor": "white",
            "gridcolor": "#DFE8F3",
            "gridwidth": 2,
            "linecolor": "#EBF0F8",
            "showbackground": true,
            "ticks": "",
            "zerolinecolor": "#EBF0F8"
           },
           "zaxis": {
            "backgroundcolor": "white",
            "gridcolor": "#DFE8F3",
            "gridwidth": 2,
            "linecolor": "#EBF0F8",
            "showbackground": true,
            "ticks": "",
            "zerolinecolor": "#EBF0F8"
           }
          },
          "shapedefaults": {
           "line": {
            "color": "#2a3f5f"
           }
          },
          "ternary": {
           "aaxis": {
            "gridcolor": "#DFE8F3",
            "linecolor": "#A2B1C6",
            "ticks": ""
           },
           "baxis": {
            "gridcolor": "#DFE8F3",
            "linecolor": "#A2B1C6",
            "ticks": ""
           },
           "bgcolor": "white",
           "caxis": {
            "gridcolor": "#DFE8F3",
            "linecolor": "#A2B1C6",
            "ticks": ""
           }
          },
          "title": {
           "x": 0.05
          },
          "xaxis": {
           "automargin": true,
           "gridcolor": "#EBF0F8",
           "linecolor": "#EBF0F8",
           "ticks": "",
           "title": {
            "standoff": 15
           },
           "zerolinecolor": "#EBF0F8",
           "zerolinewidth": 2
          },
          "yaxis": {
           "automargin": true,
           "gridcolor": "#EBF0F8",
           "linecolor": "#EBF0F8",
           "ticks": "",
           "title": {
            "standoff": 15
           },
           "zerolinecolor": "#EBF0F8",
           "zerolinewidth": 2
          }
         }
        },
        "title": {
         "text": "Rendements cumulatifs vol_strat_monthly avec coûts inclus",
         "x": 0.5,
         "y": 0.95
        },
        "width": 1000,
        "xaxis": {
         "title": {
          "text": "Date"
         }
        },
        "yaxis": {
         "title": {
          "text": "Rendement cumulé"
         }
        }
       }
      }
     },
     "metadata": {},
     "output_type": "display_data"
    }
   ],
   "source": [
    "# Graphique des différents actifs d'une stratégie précise avec possibilité d'inclusion de coûts \n",
    "manager.plot_strategy(strategy_name=\"vol_strat_monthly\",backend=backend,include_costs=True)"
   ]
  },
  {
   "cell_type": "code",
   "execution_count": 22,
   "metadata": {},
   "outputs": [
    {
     "data": {
      "application/vnd.plotly.v1+json": {
       "config": {
        "plotlyServerURL": "https://plot.ly"
       },
       "data": [
        {
         "name": "total_return",
         "type": "bar",
         "x": [
          "vol_strat_monthly"
         ],
         "y": [
          -0.000016226464837121313
         ]
        },
        {
         "name": "annual_return",
         "type": "bar",
         "x": [
          "vol_strat_monthly"
         ],
         "y": [
          -0.0003407004746476261
         ]
        },
        {
         "name": "profit_factor",
         "type": "bar",
         "x": [
          "vol_strat_monthly"
         ],
         "y": [
          0.9839237042534068
         ]
        },
        {
         "name": "volatility",
         "type": "bar",
         "x": [
          "vol_strat_monthly"
         ],
         "y": [
          0.0035247408601857405
         ]
        },
        {
         "name": "sharpe_ratio",
         "type": "bar",
         "x": [
          "vol_strat_monthly"
         ],
         "y": [
          -0.09665972284546118
         ]
        },
        {
         "name": "max_drawdown",
         "type": "bar",
         "x": [
          "vol_strat_monthly"
         ],
         "y": [
          -0.0008719959280620859
         ]
        },
        {
         "name": "sortino_ratio",
         "type": "bar",
         "x": [
          "vol_strat_monthly"
         ],
         "y": [
          -0.07589652136579529
         ]
        },
        {
         "name": "VaR_95%",
         "type": "bar",
         "x": [
          "vol_strat_monthly"
         ],
         "y": [
          -0.0003481913058548306
         ]
        },
        {
         "name": "CVaR_95%",
         "type": "bar",
         "x": [
          "vol_strat_monthly"
         ],
         "y": [
          -0.0004681241362260247
         ]
        },
        {
         "name": "Profit/Loss_Ratio",
         "type": "bar",
         "x": [
          "vol_strat_monthly"
         ],
         "y": [
          0.6559491361689379
         ]
        },
        {
         "name": "num_trades",
         "type": "bar",
         "x": [
          "vol_strat_monthly"
         ],
         "y": [
          36
         ]
        },
        {
         "name": "win_rate",
         "type": "bar",
         "x": [
          "vol_strat_monthly"
         ],
         "y": [
          0.6
         ]
        }
       ],
       "layout": {
        "barmode": "group",
        "height": 600,
        "template": {
         "data": {
          "bar": [
           {
            "error_x": {
             "color": "#2a3f5f"
            },
            "error_y": {
             "color": "#2a3f5f"
            },
            "marker": {
             "line": {
              "color": "#E5ECF6",
              "width": 0.5
             },
             "pattern": {
              "fillmode": "overlay",
              "size": 10,
              "solidity": 0.2
             }
            },
            "type": "bar"
           }
          ],
          "barpolar": [
           {
            "marker": {
             "line": {
              "color": "#E5ECF6",
              "width": 0.5
             },
             "pattern": {
              "fillmode": "overlay",
              "size": 10,
              "solidity": 0.2
             }
            },
            "type": "barpolar"
           }
          ],
          "carpet": [
           {
            "aaxis": {
             "endlinecolor": "#2a3f5f",
             "gridcolor": "white",
             "linecolor": "white",
             "minorgridcolor": "white",
             "startlinecolor": "#2a3f5f"
            },
            "baxis": {
             "endlinecolor": "#2a3f5f",
             "gridcolor": "white",
             "linecolor": "white",
             "minorgridcolor": "white",
             "startlinecolor": "#2a3f5f"
            },
            "type": "carpet"
           }
          ],
          "choropleth": [
           {
            "colorbar": {
             "outlinewidth": 0,
             "ticks": ""
            },
            "type": "choropleth"
           }
          ],
          "contour": [
           {
            "colorbar": {
             "outlinewidth": 0,
             "ticks": ""
            },
            "colorscale": [
             [
              0,
              "#0d0887"
             ],
             [
              0.1111111111111111,
              "#46039f"
             ],
             [
              0.2222222222222222,
              "#7201a8"
             ],
             [
              0.3333333333333333,
              "#9c179e"
             ],
             [
              0.4444444444444444,
              "#bd3786"
             ],
             [
              0.5555555555555556,
              "#d8576b"
             ],
             [
              0.6666666666666666,
              "#ed7953"
             ],
             [
              0.7777777777777778,
              "#fb9f3a"
             ],
             [
              0.8888888888888888,
              "#fdca26"
             ],
             [
              1,
              "#f0f921"
             ]
            ],
            "type": "contour"
           }
          ],
          "contourcarpet": [
           {
            "colorbar": {
             "outlinewidth": 0,
             "ticks": ""
            },
            "type": "contourcarpet"
           }
          ],
          "heatmap": [
           {
            "colorbar": {
             "outlinewidth": 0,
             "ticks": ""
            },
            "colorscale": [
             [
              0,
              "#0d0887"
             ],
             [
              0.1111111111111111,
              "#46039f"
             ],
             [
              0.2222222222222222,
              "#7201a8"
             ],
             [
              0.3333333333333333,
              "#9c179e"
             ],
             [
              0.4444444444444444,
              "#bd3786"
             ],
             [
              0.5555555555555556,
              "#d8576b"
             ],
             [
              0.6666666666666666,
              "#ed7953"
             ],
             [
              0.7777777777777778,
              "#fb9f3a"
             ],
             [
              0.8888888888888888,
              "#fdca26"
             ],
             [
              1,
              "#f0f921"
             ]
            ],
            "type": "heatmap"
           }
          ],
          "heatmapgl": [
           {
            "colorbar": {
             "outlinewidth": 0,
             "ticks": ""
            },
            "colorscale": [
             [
              0,
              "#0d0887"
             ],
             [
              0.1111111111111111,
              "#46039f"
             ],
             [
              0.2222222222222222,
              "#7201a8"
             ],
             [
              0.3333333333333333,
              "#9c179e"
             ],
             [
              0.4444444444444444,
              "#bd3786"
             ],
             [
              0.5555555555555556,
              "#d8576b"
             ],
             [
              0.6666666666666666,
              "#ed7953"
             ],
             [
              0.7777777777777778,
              "#fb9f3a"
             ],
             [
              0.8888888888888888,
              "#fdca26"
             ],
             [
              1,
              "#f0f921"
             ]
            ],
            "type": "heatmapgl"
           }
          ],
          "histogram": [
           {
            "marker": {
             "pattern": {
              "fillmode": "overlay",
              "size": 10,
              "solidity": 0.2
             }
            },
            "type": "histogram"
           }
          ],
          "histogram2d": [
           {
            "colorbar": {
             "outlinewidth": 0,
             "ticks": ""
            },
            "colorscale": [
             [
              0,
              "#0d0887"
             ],
             [
              0.1111111111111111,
              "#46039f"
             ],
             [
              0.2222222222222222,
              "#7201a8"
             ],
             [
              0.3333333333333333,
              "#9c179e"
             ],
             [
              0.4444444444444444,
              "#bd3786"
             ],
             [
              0.5555555555555556,
              "#d8576b"
             ],
             [
              0.6666666666666666,
              "#ed7953"
             ],
             [
              0.7777777777777778,
              "#fb9f3a"
             ],
             [
              0.8888888888888888,
              "#fdca26"
             ],
             [
              1,
              "#f0f921"
             ]
            ],
            "type": "histogram2d"
           }
          ],
          "histogram2dcontour": [
           {
            "colorbar": {
             "outlinewidth": 0,
             "ticks": ""
            },
            "colorscale": [
             [
              0,
              "#0d0887"
             ],
             [
              0.1111111111111111,
              "#46039f"
             ],
             [
              0.2222222222222222,
              "#7201a8"
             ],
             [
              0.3333333333333333,
              "#9c179e"
             ],
             [
              0.4444444444444444,
              "#bd3786"
             ],
             [
              0.5555555555555556,
              "#d8576b"
             ],
             [
              0.6666666666666666,
              "#ed7953"
             ],
             [
              0.7777777777777778,
              "#fb9f3a"
             ],
             [
              0.8888888888888888,
              "#fdca26"
             ],
             [
              1,
              "#f0f921"
             ]
            ],
            "type": "histogram2dcontour"
           }
          ],
          "mesh3d": [
           {
            "colorbar": {
             "outlinewidth": 0,
             "ticks": ""
            },
            "type": "mesh3d"
           }
          ],
          "parcoords": [
           {
            "line": {
             "colorbar": {
              "outlinewidth": 0,
              "ticks": ""
             }
            },
            "type": "parcoords"
           }
          ],
          "pie": [
           {
            "automargin": true,
            "type": "pie"
           }
          ],
          "scatter": [
           {
            "fillpattern": {
             "fillmode": "overlay",
             "size": 10,
             "solidity": 0.2
            },
            "type": "scatter"
           }
          ],
          "scatter3d": [
           {
            "line": {
             "colorbar": {
              "outlinewidth": 0,
              "ticks": ""
             }
            },
            "marker": {
             "colorbar": {
              "outlinewidth": 0,
              "ticks": ""
             }
            },
            "type": "scatter3d"
           }
          ],
          "scattercarpet": [
           {
            "marker": {
             "colorbar": {
              "outlinewidth": 0,
              "ticks": ""
             }
            },
            "type": "scattercarpet"
           }
          ],
          "scattergeo": [
           {
            "marker": {
             "colorbar": {
              "outlinewidth": 0,
              "ticks": ""
             }
            },
            "type": "scattergeo"
           }
          ],
          "scattergl": [
           {
            "marker": {
             "colorbar": {
              "outlinewidth": 0,
              "ticks": ""
             }
            },
            "type": "scattergl"
           }
          ],
          "scattermapbox": [
           {
            "marker": {
             "colorbar": {
              "outlinewidth": 0,
              "ticks": ""
             }
            },
            "type": "scattermapbox"
           }
          ],
          "scatterpolar": [
           {
            "marker": {
             "colorbar": {
              "outlinewidth": 0,
              "ticks": ""
             }
            },
            "type": "scatterpolar"
           }
          ],
          "scatterpolargl": [
           {
            "marker": {
             "colorbar": {
              "outlinewidth": 0,
              "ticks": ""
             }
            },
            "type": "scatterpolargl"
           }
          ],
          "scatterternary": [
           {
            "marker": {
             "colorbar": {
              "outlinewidth": 0,
              "ticks": ""
             }
            },
            "type": "scatterternary"
           }
          ],
          "surface": [
           {
            "colorbar": {
             "outlinewidth": 0,
             "ticks": ""
            },
            "colorscale": [
             [
              0,
              "#0d0887"
             ],
             [
              0.1111111111111111,
              "#46039f"
             ],
             [
              0.2222222222222222,
              "#7201a8"
             ],
             [
              0.3333333333333333,
              "#9c179e"
             ],
             [
              0.4444444444444444,
              "#bd3786"
             ],
             [
              0.5555555555555556,
              "#d8576b"
             ],
             [
              0.6666666666666666,
              "#ed7953"
             ],
             [
              0.7777777777777778,
              "#fb9f3a"
             ],
             [
              0.8888888888888888,
              "#fdca26"
             ],
             [
              1,
              "#f0f921"
             ]
            ],
            "type": "surface"
           }
          ],
          "table": [
           {
            "cells": {
             "fill": {
              "color": "#EBF0F8"
             },
             "line": {
              "color": "white"
             }
            },
            "header": {
             "fill": {
              "color": "#C8D4E3"
             },
             "line": {
              "color": "white"
             }
            },
            "type": "table"
           }
          ]
         },
         "layout": {
          "annotationdefaults": {
           "arrowcolor": "#2a3f5f",
           "arrowhead": 0,
           "arrowwidth": 1
          },
          "autotypenumbers": "strict",
          "coloraxis": {
           "colorbar": {
            "outlinewidth": 0,
            "ticks": ""
           }
          },
          "colorscale": {
           "diverging": [
            [
             0,
             "#8e0152"
            ],
            [
             0.1,
             "#c51b7d"
            ],
            [
             0.2,
             "#de77ae"
            ],
            [
             0.3,
             "#f1b6da"
            ],
            [
             0.4,
             "#fde0ef"
            ],
            [
             0.5,
             "#f7f7f7"
            ],
            [
             0.6,
             "#e6f5d0"
            ],
            [
             0.7,
             "#b8e186"
            ],
            [
             0.8,
             "#7fbc41"
            ],
            [
             0.9,
             "#4d9221"
            ],
            [
             1,
             "#276419"
            ]
           ],
           "sequential": [
            [
             0,
             "#0d0887"
            ],
            [
             0.1111111111111111,
             "#46039f"
            ],
            [
             0.2222222222222222,
             "#7201a8"
            ],
            [
             0.3333333333333333,
             "#9c179e"
            ],
            [
             0.4444444444444444,
             "#bd3786"
            ],
            [
             0.5555555555555556,
             "#d8576b"
            ],
            [
             0.6666666666666666,
             "#ed7953"
            ],
            [
             0.7777777777777778,
             "#fb9f3a"
            ],
            [
             0.8888888888888888,
             "#fdca26"
            ],
            [
             1,
             "#f0f921"
            ]
           ],
           "sequentialminus": [
            [
             0,
             "#0d0887"
            ],
            [
             0.1111111111111111,
             "#46039f"
            ],
            [
             0.2222222222222222,
             "#7201a8"
            ],
            [
             0.3333333333333333,
             "#9c179e"
            ],
            [
             0.4444444444444444,
             "#bd3786"
            ],
            [
             0.5555555555555556,
             "#d8576b"
            ],
            [
             0.6666666666666666,
             "#ed7953"
            ],
            [
             0.7777777777777778,
             "#fb9f3a"
            ],
            [
             0.8888888888888888,
             "#fdca26"
            ],
            [
             1,
             "#f0f921"
            ]
           ]
          },
          "colorway": [
           "#636efa",
           "#EF553B",
           "#00cc96",
           "#ab63fa",
           "#FFA15A",
           "#19d3f3",
           "#FF6692",
           "#B6E880",
           "#FF97FF",
           "#FECB52"
          ],
          "font": {
           "color": "#2a3f5f"
          },
          "geo": {
           "bgcolor": "white",
           "lakecolor": "white",
           "landcolor": "#E5ECF6",
           "showlakes": true,
           "showland": true,
           "subunitcolor": "white"
          },
          "hoverlabel": {
           "align": "left"
          },
          "hovermode": "closest",
          "mapbox": {
           "style": "light"
          },
          "paper_bgcolor": "white",
          "plot_bgcolor": "#E5ECF6",
          "polar": {
           "angularaxis": {
            "gridcolor": "white",
            "linecolor": "white",
            "ticks": ""
           },
           "bgcolor": "#E5ECF6",
           "radialaxis": {
            "gridcolor": "white",
            "linecolor": "white",
            "ticks": ""
           }
          },
          "scene": {
           "xaxis": {
            "backgroundcolor": "#E5ECF6",
            "gridcolor": "white",
            "gridwidth": 2,
            "linecolor": "white",
            "showbackground": true,
            "ticks": "",
            "zerolinecolor": "white"
           },
           "yaxis": {
            "backgroundcolor": "#E5ECF6",
            "gridcolor": "white",
            "gridwidth": 2,
            "linecolor": "white",
            "showbackground": true,
            "ticks": "",
            "zerolinecolor": "white"
           },
           "zaxis": {
            "backgroundcolor": "#E5ECF6",
            "gridcolor": "white",
            "gridwidth": 2,
            "linecolor": "white",
            "showbackground": true,
            "ticks": "",
            "zerolinecolor": "white"
           }
          },
          "shapedefaults": {
           "line": {
            "color": "#2a3f5f"
           }
          },
          "ternary": {
           "aaxis": {
            "gridcolor": "white",
            "linecolor": "white",
            "ticks": ""
           },
           "baxis": {
            "gridcolor": "white",
            "linecolor": "white",
            "ticks": ""
           },
           "bgcolor": "#E5ECF6",
           "caxis": {
            "gridcolor": "white",
            "linecolor": "white",
            "ticks": ""
           }
          },
          "title": {
           "x": 0.05
          },
          "xaxis": {
           "automargin": true,
           "gridcolor": "white",
           "linecolor": "white",
           "ticks": "",
           "title": {
            "standoff": 15
           },
           "zerolinecolor": "white",
           "zerolinewidth": 2
          },
          "yaxis": {
           "automargin": true,
           "gridcolor": "white",
           "linecolor": "white",
           "ticks": "",
           "title": {
            "standoff": 15
           },
           "zerolinecolor": "white",
           "zerolinewidth": 2
          }
         }
        },
        "title": {
         "text": "Comparaison des stratégies"
        }
       }
      }
     },
     "metadata": {},
     "output_type": "display_data"
    }
   ],
   "source": [
    "# Histogramme de comparaison des différentes stratégies\n",
    "manager.compare_strategies(backend=backend)"
   ]
  },
  {
   "cell_type": "markdown",
   "metadata": {},
   "source": [
    "### *Analyse détaillée de la VolatilityBasedStrategy*\n",
    "\n",
    "\n",
    "\n",
    "La stratégie VolatilityBasedStrategy repose sur une approche simple mais efficace pour exploiter les variations de volatilité dans les actifs financiers. Cette stratégie identifie les actifs ayant une volatilité élevée et adopte une position vendeuse (short), tandis que les actifs avec une faible volatilité sont favorisés pour des positions longues (long).\n",
    "\n",
    "Lors de son initialisation, la stratégie définit trois paramètres principaux :\n",
    "1. **volatility_threshold** : un seuil permettant de différencier les actifs à forte volatilité de ceux à faible volatilité.\n",
    "2. **window_size** : la taille de la fenêtre glissante utilisée pour calculer la volatilité.\n",
    "3. **rebalancing_frequency** : la fréquence à laquelle les positions sont réajustées, fixée par défaut à une base quotidienne ('D').\n",
    "\n",
    "La méthode fit est utilisée pour calculer les volatilités historiques. Elle s’appuie sur les rendements journaliers des prix des actifs pour déterminer la volatilité moyenne sur une fenêtre glissante définie par window_size. Cela prépare les données pour les décisions futures. Ensuite, la méthode get_position évalue la volatilité actuelle d’un actif pour déterminer la position à adopter. Si la volatilité dépasse le seuil défini (volatility_threshold), une position vendeuse est prise. Si elle est inférieure, la stratégie favorise une position acheteuse. Si la volatilité n’est pas calculable (valeur NaN), la position reste neutre.\n",
    "\n",
    "Cette stratégie est particulièrement utile pour s’adapter aux conditions de marché caractérisées par des périodes de forte incertitude (volatilité élevée) ou de calme relatif (volatilité faible). En théorie, elle permet de minimiser les risques en évitant les actifs trop volatils tout en capitalisant sur des actifs plus stables.\n",
    "\n",
    "\n",
    "\n",
    "#### **Performance globale de la stratégie vol_strat_monthly**\n",
    "\n",
    "En observant les graphiques globaux des rendements cumulés, plusieurs observations ressortent :\n",
    "\n",
    "1. *Avec coûts de transaction* :\n",
    "   - La stratégie montre une performance proche de l’équilibre. Les rendements cumulés oscillent légèrement autour du point initial mais restent légèrement négatifs à la fin de la période.\n",
    "   - Les coûts de transaction affectent considérablement les résultats globaux, réduisant les marges déjà faibles en raison d’une activité de trading modérée.\n",
    "\n",
    "2. *Sans coûts de transaction* :\n",
    "   - Les rendements sont meilleurs et la stratégie reste proche de l’équilibre, voire légèrement positive sur certaines périodes.\n",
    "   - La capacité de la stratégie à s’adapter à des périodes de forte volatilité semble limitée, suggérant que le seuil et la fenêtre de calcul de la volatilité pourraient être ajustés pour des conditions de marché spécifiques.\n",
    "\n",
    "3. *Comparaison avec d’autres stratégies* :\n",
    "   - La stratégie basée sur la volatilité surpasse certaines stratégies de type moyenne mobile (ma_strat_weekly et monthly), qui affichent des pertes importantes.\n",
    "   - Cependant, elle reste globalement en retrait par rapport aux performances des stratégies passives ou des stratégies de momentum qui prennent peu de risques.\n",
    "\n",
    "\n",
    "\n",
    "#### **Analyse spécifique de la stratégie VolatilityBasedStrategy**\n",
    "\n",
    "En isolant la stratégie basée sur la volatilité, son comportement sur différents actifs peut être examiné en détail :\n",
    "\n",
    "1. *Avec coûts inclus* :\n",
    "   - Les rendements cumulés montrent des pertes faibles mais constantes sur plusieurs actifs. Cela s’explique par la fréquence de réajustement des positions et les coûts associés aux transactions.\n",
    "   - La volatilité calculée semble parfois mal ajustée à certains actifs, ce qui entraîne des décisions de trading défavorables.\n",
    "\n",
    "2. *Sans coûts* :\n",
    "   - Sans l’impact des coûts, les rendements sont proches de l’équilibre. Certains actifs affichent même des gains légers, suggérant que la stratégie est viable dans un environnement où les frais de transaction sont négligeables.\n",
    "   - Cependant, les marges restent faibles, ce qui indique que l’approche nécessite une optimisation supplémentaire pour générer des gains significatifs.\n",
    "\n",
    "3. *Métriques* :\n",
    "   - *Profit Factor* : Légèrement inférieur à 1, indiquant que les pertes sont légèrement supérieures aux gains sur la période.\n",
    "   - *Sharpe Ratio* : Négatif avec coûts, reflétant un ajustement défavorable du rendement par rapport au risque.\n",
    "   - *Win Rate* : Proche de 50 %, mais insuffisant pour compenser les pertes générées par les trades non gagnants.\n",
    "\n",
    "Dans l’ensemble, bien que certains actifs montrent des résultats prometteurs, la stratégie reste limitée dans sa capacité à générer des rendements significatifs, en partie à cause des coûts de transaction et d’une exploitation suboptimale des variations de volatilité.\n",
    "\n",
    "\n",
    "\n",
    "#### **Statistiques globales**\n",
    "\n",
    "- *Total Return* : Une légère perte de -0.0016, indiquant une stratégie qui reste proche de l’équilibre avant prise en compte des coûts.\n",
    "- *Annual Return* : La perte annuelle est modeste, à -0.0332.\n",
    "- *Profit Factor* : Avec une valeur de 0.7571, cela signifie que pour chaque dollar perdu, seulement 75 cents ont été gagnés.\n",
    "- *Volatility* : Faible (0.0203), ce qui reflète une approche défensive.\n",
    "- *Sharpe Ratio* : Négatif (-1.6406), montrant que la stratégie n’a pas bien ajusté ses rendements par rapport au risque pris.\n",
    "- *Nombre de trades (num_trades)* : 10 trades au total, ce qui reste modéré.\n",
    "- *Win Rate* : 50 %, ce qui est neutre, mais insuffisant pour compenser les pertes.\n",
    "\n",
    "Ces résultats indiquent que, bien que la stratégie soit stable, elle manque de rendement significatif et est affectée par les coûts de transaction.\n",
    "\n",
    "\n",
    "\n",
    "#### **Performance sur actifs individuels**\n",
    "\n",
    "La stratégie est testée sur plusieurs actifs (AAVEUSDT, ACMUSDT, etc.), avec des résultats variables :\n",
    "\n",
    "- *AAVEUSDT* : Montre des rendements proches de l’équilibre, mais souvent négatifs (-0.3741).\n",
    "- *AMPUSDT* : Affiche une performance légèrement positive, avec un total_return de 0.0239, mais reste isolé.\n",
    "- La *volatilité* des actifs testés est en moyenne faible, ce qui favorise la stabilité mais limite les opportunités de gains importants.\n",
    "\n",
    "Dans l’ensemble, bien que certains actifs montrent des résultats prometteurs, la stratégie reste limitée dans sa capacité à générer des rendements significatifs, en partie à cause des coûts de transaction et d’une exploitation suboptimale des variations de volatilité.\n"
   ]
  },
  {
   "cell_type": "markdown",
   "metadata": {},
   "source": []
  }
 ],
 "metadata": {
  "kernelspec": {
   "display_name": "base",
   "language": "python",
   "name": "python3"
  },
  "language_info": {
   "codemirror_mode": {
    "name": "ipython",
    "version": 3
   },
   "file_extension": ".py",
   "mimetype": "text/x-python",
   "name": "python",
   "nbconvert_exporter": "python",
   "pygments_lexer": "ipython3",
   "version": "3.12.4"
  }
 },
 "nbformat": 4,
 "nbformat_minor": 2
}
